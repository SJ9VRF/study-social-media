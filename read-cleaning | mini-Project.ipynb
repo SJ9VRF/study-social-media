{
 "cells": [
  {
   "cell_type": "code",
   "execution_count": 6,
   "metadata": {},
   "outputs": [],
   "source": [
    "import json\n",
    "from glob import glob\n",
    "import os\n",
    "import pandas as pd\n",
    "from datetime import datetime\n",
    "import re\n",
    "import numpy as np\n",
    "import preprocessor as p\n",
    "p.set_options(p.OPT.URL, p.OPT.EMOJI, p.OPT.MENTION, p.OPT.SMILEY, p.OPT.NUMBER)"
   ]
  },
  {
   "cell_type": "code",
   "execution_count": 7,
   "metadata": {},
   "outputs": [],
   "source": [
    "def twitter_preprocessing(input_text):\n",
    "    #remove_emoji\n",
    "    #remove_url\n",
    "    #remove_mention\n",
    "    #remove number\n",
    "    cleaned_text = p.clean(input_text)\n",
    "    if cleaned_text.startswith('RT'):\n",
    "        cleaned_text = cleaned_text[2:]\n",
    "    cleaned_text = cleaned_text.replace('-',' ')\n",
    "    cleaned_text = cleaned_text.replace(',',' ')\n",
    "    cleaned_text = cleaned_text.replace(':',' ')\n",
    "    cleaned_text = cleaned_text.replace('\"',' ')\n",
    "    cleaned_text = cleaned_text.replace('#',' ')\n",
    "    cleaned_text = cleaned_text.replace('(',' ')\n",
    "    cleaned_text = cleaned_text.replace(')',' ')\n",
    "    cleaned_text = cleaned_text.replace('[',' ')\n",
    "    cleaned_text = cleaned_text.replace(']',' ')\n",
    "    cleaned_text = cleaned_text.replace('{',' ')\n",
    "    cleaned_text = cleaned_text.replace('}',' ')\n",
    "    cleaned_text = cleaned_text.replace('RT ',' ')\n",
    "    cleaned_text = re.sub(' +', ' ', cleaned_text)\n",
    "    cleaned_text = re.sub(r'\\.+', \".\", cleaned_text)\n",
    "    cleaned_text = cleaned_text.lower()\n",
    "    cleaned_text = cleaned_text.strip()\n",
    "    cleaned_text = \" \".join(cleaned_text.split(' '))\n",
    "    return (cleaned_text)"
   ]
  },
  {
   "cell_type": "code",
   "execution_count": 8,
   "metadata": {},
   "outputs": [],
   "source": [
    "def read_js_file(path_file_path):    \n",
    "    with open(path_file_path) as jsonfile:\n",
    "        data = json.load(jsonfile)\n",
    "    return data"
   ]
  },
  {
   "cell_type": "code",
   "execution_count": 9,
   "metadata": {},
   "outputs": [],
   "source": [
    "def cosine_sim(v_1,v_2):\n",
    "    cosine_similarity = np.dot(v_1, v_2)/(np.linalg.norm(v_1)* np.linalg.norm(v_2))\n",
    "    return cosine_similarity"
   ]
  },
  {
   "cell_type": "code",
   "execution_count": 10,
   "metadata": {},
   "outputs": [],
   "source": [
    "search_words = [\"#COVIDVaccination\", \"#antiVax\", \"anti-vaccine\", \"#Covid AND #Fake\",\"#Covid\",\"#Corona\",\"#Covid19\",\"#Covid-19\"]"
   ]
  },
  {
   "cell_type": "code",
   "execution_count": 11,
   "metadata": {},
   "outputs": [],
   "source": [
    "date = list(pd.date_range(start=\"2020-01-10\",end=\"2021-01-10\"))\n",
    "date_list = [str(item).split()[0] for item in date]"
   ]
  },
  {
   "cell_type": "code",
   "execution_count": 12,
   "metadata": {},
   "outputs": [],
   "source": [
    "search_keyword = search_words[4]"
   ]
  },
  {
   "cell_type": "code",
   "execution_count": 13,
   "metadata": {},
   "outputs": [],
   "source": [
    "ind_date = []\n",
    "prev = 0\n",
    "for item in date_list:\n",
    "    main_path = '/Users/arefeh/Desktop/tweet_api_new/'+search_keyword+'/'+item+'/'\n",
    "    number_of_files = sum(f.endswith('.txt') for f in os.listdir(main_path))\n",
    "    value_file = number_of_files + prev\n",
    "    ind_date.append([item, value_file])\n",
    "    prev = value_file"
   ]
  },
  {
   "cell_type": "code",
   "execution_count": 14,
   "metadata": {},
   "outputs": [
    {
     "data": {
      "text/plain": [
       "'2020-12-15'"
      ]
     },
     "execution_count": 14,
     "metadata": {},
     "output_type": "execute_result"
    }
   ],
   "source": [
    "date_list[340]"
   ]
  },
  {
   "cell_type": "code",
   "execution_count": 15,
   "metadata": {},
   "outputs": [],
   "source": [
    "search_keyword = search_words[0]"
   ]
  },
  {
   "cell_type": "code",
   "execution_count": 16,
   "metadata": {},
   "outputs": [
    {
     "data": {
      "text/plain": [
       "'2020-11-17'"
      ]
     },
     "execution_count": 16,
     "metadata": {},
     "output_type": "execute_result"
    }
   ],
   "source": [
    "date_list[312]"
   ]
  },
  {
   "cell_type": "code",
   "execution_count": 17,
   "metadata": {},
   "outputs": [
    {
     "name": "stdout",
     "output_type": "stream",
     "text": [
      "2020-01-10 672\n",
      "2020-01-11 1000\n",
      "2020-01-12 1000\n",
      "2020-01-13 1000\n",
      "2020-01-14 30\n",
      "2020-01-15 1000\n",
      "2020-01-16 1000\n",
      "2020-01-17 957\n",
      "2020-01-18 1000\n",
      "2020-01-19 389\n",
      "2020-01-20 1000\n",
      "2020-01-21 285\n",
      "2020-01-22 1000\n",
      "2020-01-23 1000\n",
      "2020-01-24 1000\n",
      "2020-01-25 225\n",
      "2020-01-26 15\n",
      "2020-01-27 1000\n",
      "2020-01-28 1000\n",
      "2020-01-29 1000\n",
      "2020-01-30 1000\n",
      "2020-01-31 1000\n",
      "2020-02-01 1000\n",
      "2020-02-02 1000\n",
      "2020-02-03 1000\n",
      "2020-02-04 1000\n",
      "2020-02-05 1000\n",
      "2020-02-06 1000\n",
      "2020-02-07 1000\n",
      "2020-02-08 1000\n",
      "2020-02-09 1000\n",
      "2020-02-10 1000\n",
      "2020-02-11 1000\n",
      "2020-02-12 1000\n",
      "2020-02-13 1000\n",
      "2020-02-14 1000\n",
      "2020-02-15 1000\n",
      "2020-02-16 1000\n",
      "2020-02-17 1000\n",
      "2020-02-18 1000\n",
      "2020-02-19 1000\n",
      "2020-02-20 1000\n",
      "2020-02-21 1000\n",
      "2020-02-22 1000\n",
      "2020-02-23 1000\n",
      "2020-02-24 105\n",
      "2020-02-25 1000\n",
      "2020-02-26 1000\n",
      "2020-02-27 1000\n",
      "2020-02-28 1000\n",
      "2020-02-29 1000\n",
      "2020-03-01 1000\n",
      "2020-03-02 1000\n",
      "2020-03-03 1000\n",
      "2020-03-04 1000\n",
      "2020-03-05 1000\n",
      "2020-03-06 1000\n",
      "2020-03-07 1000\n",
      "2020-03-08 1000\n",
      "2020-03-09 1000\n",
      "2020-03-10 1000\n",
      "2020-03-11 1000\n",
      "2020-03-12 1000\n",
      "2020-03-13 1000\n",
      "2020-03-14 1000\n",
      "2020-03-15 1000\n",
      "2020-03-16 1000\n",
      "2020-03-17 1000\n",
      "2020-03-18 1000\n",
      "2020-03-19 1000\n",
      "2020-03-20 584\n",
      "2020-03-21 794\n",
      "2020-03-22 1000\n",
      "2020-03-23 750\n",
      "2020-03-24 1000\n",
      "2020-03-25 929\n",
      "2020-03-26 465\n",
      "2020-03-27 1000\n",
      "2020-03-28 1000\n",
      "2020-03-29 1000\n",
      "2020-03-30 1000\n",
      "2020-03-31 1000\n",
      "2020-04-01 540\n",
      "2020-04-02 465\n",
      "2020-04-03 1000\n",
      "2020-04-04 1000\n",
      "2020-04-05 1000\n",
      "2020-04-06 1000\n",
      "2020-04-07 1000\n",
      "2020-04-08 1000\n",
      "2020-04-09 881\n",
      "2020-04-10 1000\n",
      "2020-04-11 195\n",
      "2020-04-12 1000\n",
      "2020-04-13 1000\n",
      "2020-04-14 1000\n",
      "2020-04-15 1000\n",
      "2020-04-16 328\n",
      "2020-04-17 1000\n",
      "2020-04-18 1000\n",
      "100\n",
      "0.2724795640326976\n",
      "2020-04-19 585\n",
      "2020-04-20 630\n",
      "2020-04-21 135\n",
      "2020-04-22 60\n",
      "2020-04-23 1000\n",
      "2020-04-24 1000\n",
      "2020-04-25 1000\n",
      "2020-04-26 1000\n",
      "2020-04-27 1000\n",
      "2020-04-28 1000\n",
      "2020-04-29 1000\n",
      "2020-04-30 1000\n",
      "2020-05-01 1000\n",
      "2020-05-02 1000\n",
      "2020-05-03 1000\n",
      "2020-05-04 1000\n",
      "2020-05-05 1000\n",
      "2020-05-06 1000\n",
      "2020-05-07 1000\n",
      "2020-05-08 1000\n",
      "2020-05-09 1000\n",
      "2020-05-10 1000\n",
      "2020-05-11 748\n",
      "2020-05-12 1000\n",
      "2020-05-13 1000\n",
      "2020-05-14 585\n",
      "2020-05-15 1000\n",
      "2020-05-16 1000\n",
      "2020-05-17 1000\n",
      "2020-05-18 1000\n",
      "2020-05-19 1000\n",
      "2020-05-20 1000\n",
      "2020-05-21 1000\n",
      "2020-05-22 1000\n",
      "2020-05-23 1000\n",
      "2020-05-24 1000\n",
      "2020-05-25 1000\n",
      "2020-05-26 1000\n",
      "2020-05-27 1000\n",
      "2020-05-28 1000\n",
      "2020-05-29 1000\n",
      "2020-05-30 1000\n",
      "2020-05-31 1000\n",
      "2020-06-01 1000\n",
      "2020-06-02 1000\n",
      "2020-06-03 1000\n",
      "2020-06-04 1000\n",
      "2020-06-05 1000\n",
      "2020-06-06 1000\n",
      "2020-06-07 1000\n",
      "2020-06-08 1000\n",
      "2020-06-09 1000\n",
      "2020-06-10 1000\n",
      "2020-06-11 1000\n",
      "2020-06-12 1000\n",
      "2020-06-13 1000\n",
      "2020-06-14 1000\n",
      "2020-06-15 1000\n",
      "2020-06-16 1000\n",
      "2020-06-17 1000\n",
      "2020-06-18 1000\n",
      "2020-06-19 1000\n",
      "2020-06-20 1000\n",
      "2020-06-21 1000\n",
      "2020-06-22 1000\n",
      "2020-06-23 1000\n",
      "2020-06-24 1000\n",
      "2020-06-25 1000\n",
      "2020-06-26 1000\n",
      "2020-06-27 1000\n",
      "2020-06-28 1000\n",
      "2020-06-29 1000\n",
      "2020-06-30 1000\n",
      "2020-07-01 1000\n",
      "2020-07-02 1000\n",
      "2020-07-03 1000\n",
      "2020-07-04 1000\n",
      "2020-07-05 1000\n",
      "2020-07-06 1000\n",
      "2020-07-07 1000\n",
      "2020-07-08 1000\n",
      "2020-07-09 1000\n",
      "2020-07-10 1000\n",
      "2020-07-11 1000\n",
      "2020-07-12 1000\n",
      "2020-07-13 1000\n",
      "2020-07-14 1000\n",
      "2020-07-15 1000\n",
      "2020-07-16 1000\n",
      "2020-07-17 1000\n",
      "2020-07-18 1000\n",
      "2020-07-19 1000\n",
      "2020-07-20 1000\n",
      "2020-07-21 1000\n",
      "2020-07-22 1000\n",
      "2020-07-23 1000\n",
      "2020-07-24 1000\n",
      "2020-07-25 1000\n",
      "2020-07-26 1000\n",
      "2020-07-27 1000\n",
      "200\n",
      "0.5449591280653951\n",
      "2020-07-28 1000\n",
      "2020-07-29 1000\n",
      "2020-07-30 1000\n",
      "2020-07-31 1000\n",
      "2020-08-01 1000\n",
      "2020-08-02 1000\n",
      "2020-08-03 1000\n",
      "2020-08-04 1000\n",
      "2020-08-05 1000\n",
      "2020-08-06 1000\n",
      "2020-08-07 1000\n",
      "2020-08-08 1000\n",
      "2020-08-09 1000\n",
      "2020-08-10 1000\n",
      "2020-08-11 1000\n",
      "2020-08-12 1000\n",
      "2020-08-13 1000\n",
      "2020-08-14 1000\n",
      "2020-08-15 1000\n",
      "2020-08-16 1000\n",
      "2020-08-17 1000\n",
      "2020-08-18 1000\n",
      "2020-08-19 1000\n",
      "2020-08-20 1000\n",
      "2020-08-21 1000\n",
      "2020-08-22 1000\n",
      "2020-08-23 1000\n",
      "2020-08-24 1000\n",
      "2020-08-25 1000\n",
      "2020-08-26 1000\n",
      "2020-08-27 1000\n",
      "2020-08-28 1000\n",
      "2020-08-29 1000\n",
      "2020-08-30 1000\n",
      "2020-08-31 1000\n",
      "2020-09-01 1000\n",
      "2020-09-02 1000\n",
      "2020-09-03 1000\n",
      "2020-09-04 1000\n",
      "2020-09-05 821\n",
      "2020-09-06 1000\n",
      "2020-09-07 1000\n",
      "2020-09-08 1000\n",
      "2020-09-09 1000\n",
      "2020-09-10 1000\n",
      "2020-09-11 851\n",
      "2020-09-12 1000\n",
      "2020-09-13 732\n",
      "2020-09-14 925\n",
      "2020-09-15 1000\n",
      "2020-09-16 1000\n",
      "2020-09-17 1000\n",
      "2020-09-18 1000\n",
      "2020-09-19 1000\n",
      "2020-09-20 1000\n",
      "2020-09-21 1000\n",
      "2020-09-22 1000\n",
      "2020-09-23 1000\n",
      "2020-09-24 1000\n",
      "2020-09-25 1000\n",
      "2020-09-26 1000\n",
      "2020-09-27 1000\n",
      "2020-09-28 1000\n",
      "2020-09-29 1000\n",
      "2020-09-30 1000\n",
      "2020-10-01 1000\n",
      "2020-10-02 1000\n",
      "2020-10-03 1000\n",
      "2020-10-04 1000\n",
      "2020-10-05 1000\n",
      "2020-10-06 1000\n",
      "2020-10-07 1000\n",
      "2020-10-08 1000\n",
      "2020-10-09 1000\n",
      "2020-10-10 1000\n",
      "2020-10-11 1000\n",
      "2020-10-12 1000\n",
      "2020-10-13 909\n",
      "2020-10-14 1000\n",
      "2020-10-15 1000\n",
      "2020-10-16 1000\n",
      "2020-10-17 1000\n",
      "2020-10-18 90\n",
      "2020-10-19 1000\n",
      "2020-10-20 1000\n",
      "2020-10-21 1000\n",
      "2020-10-22 1000\n",
      "2020-10-23 1000\n",
      "2020-10-24 1000\n",
      "2020-10-25 1000\n",
      "2020-10-26 1000\n",
      "2020-10-27 1000\n",
      "2020-10-28 1000\n",
      "2020-10-29 750\n",
      "2020-10-30 1000\n",
      "2020-10-31 1000\n",
      "2020-11-01 1000\n",
      "2020-11-02 1000\n",
      "2020-11-03 1000\n",
      "2020-11-04 1000\n",
      "300\n",
      "0.8174386920980926\n",
      "2020-11-05 1000\n",
      "2020-11-06 854\n",
      "2020-11-07 60\n",
      "2020-11-08 30\n",
      "2020-11-09 492\n",
      "2020-11-10 927\n",
      "2020-11-11 1000\n",
      "2020-11-12 1000\n",
      "2020-11-13 1000\n",
      "2020-11-14 805\n",
      "2020-11-15 45\n",
      "2020-11-16 370\n",
      "2020-11-17 1000\n",
      "2020-11-18 510\n",
      "2020-11-19 90\n",
      "2020-11-20 463\n",
      "2020-11-21 1000\n",
      "2020-11-22 478\n",
      "2020-11-23 868\n",
      "2020-11-24 239\n",
      "2020-11-25 15\n",
      "2020-11-26 1000\n",
      "2020-11-27 1000\n",
      "2020-11-28 1000\n",
      "2020-11-29 538\n",
      "2020-11-30 1000\n",
      "2020-12-01 505\n",
      "2020-12-02 1000\n",
      "2020-12-03 1000\n",
      "2020-12-04 1000\n",
      "2020-12-05 1000\n",
      "2020-12-06 1000\n",
      "2020-12-07 1000\n",
      "2020-12-08 1000\n",
      "2020-12-09 1000\n",
      "2020-12-10 1000\n",
      "2020-12-11 1000\n",
      "2020-12-12 1000\n",
      "2020-12-13 1000\n",
      "2020-12-14 1000\n",
      "2020-12-15 1000\n",
      "2020-12-16 1000\n",
      "2020-12-17 1000\n",
      "2020-12-18 1000\n",
      "2020-12-19 1000\n",
      "2020-12-20 1000\n",
      "2020-12-21 1000\n",
      "2020-12-22 1000\n",
      "2020-12-23 1000\n",
      "2020-12-24 1000\n",
      "2020-12-25 1000\n",
      "2020-12-26 1000\n",
      "2020-12-27 1000\n",
      "2020-12-28 1000\n",
      "2020-12-29 1000\n",
      "2020-12-30 1000\n",
      "2020-12-31 1000\n",
      "2021-01-01 1000\n",
      "2021-01-02 150\n",
      "2021-01-03 1000\n",
      "2021-01-04 1000\n",
      "2021-01-05 1000\n",
      "2021-01-06 1000\n",
      "2021-01-07 1000\n",
      "2021-01-08 926\n",
      "2021-01-09 1000\n",
      "2021-01-10 1000\n"
     ]
    }
   ],
   "source": [
    "#COUNTER - FOLLLOWER\n",
    "tweet_fol = []\n",
    "n = 0\n",
    "for ftem in date_list[n:]:\n",
    "    main_path = '/Users/arefeh/Desktop/tweet_api_new/'+search_keyword+'/'+ftem+'/'\n",
    "    number_of_files = sum(f.endswith('.txt') for f in os.listdir(main_path))\n",
    "    print(str(ftem)+ ' '+str(number_of_files))\n",
    "    if number_of_files < 1 :\n",
    "        print('---------------: '+ str(n))\n",
    "    for ntem in range(number_of_files):\n",
    "        path = main_path+str(ntem)+'.txt'\n",
    "        tweet_fol.append(read_js_file(path)['followers_count'])\n",
    "    n = n + 1\n",
    "    if n%100 ==0:\n",
    "        print(n)\n",
    "        print(n/len(date_list))"
   ]
  },
  {
   "cell_type": "code",
   "execution_count": 45,
   "metadata": {},
   "outputs": [
    {
     "name": "stdout",
     "output_type": "stream",
     "text": [
      "136\n"
     ]
    }
   ],
   "source": [
    "#doc_tw = []\n",
    "doc_main = []\n",
    "search_keyword = search_words[0]\n",
    "n = 0\n",
    "\n",
    "key_word = '#bbc AND #Covid'\n",
    "key_word = '#cnn AND #Covid'\n",
    "key_word = '#bbc AND #Covid'\n",
    "for ftem in ['2020-04-08']:\n",
    "    main_path = '/Users/arefeh/Desktop/tweet_api_new/'+str(key_word)+'/'+ftem+'/'\n",
    "    number_of_files = sum(f.endswith('.txt') for f in os.listdir(main_path))\n",
    "    #print(str(ftem)+str(number_of_files))\n",
    "    for ntem in range(number_of_files):\n",
    "        path = main_path+str(ntem)+'.txt'\n",
    "        doc_main.append(read_js_file(path)['text'])\n",
    "        cleaned_tweet = twitter_preprocessing(read_js_file(path)['text'])\n",
    "        doc_tw.append(cleaned_tweet)\n",
    "    n = n + 1\n",
    "    if n%100 ==0:\n",
    "        print(n)\n",
    "        print(n/len(date_list))\n",
    "print(len(doc_tw))"
   ]
  },
  {
   "cell_type": "code",
   "execution_count": 46,
   "metadata": {},
   "outputs": [],
   "source": [
    "with open('/Users/arefeh/Desktop/tweet_api_new/'+'cleaned'+'/'+str(key_word)+'2020-04-08'+'.txt', 'w') as f:\n",
    "    for item in doc_tw:\n",
    "        f.write(item+'\\n')"
   ]
  },
  {
   "cell_type": "code",
   "execution_count": 24,
   "metadata": {},
   "outputs": [
    {
     "name": "stdout",
     "output_type": "stream",
     "text": [
      "#COVIDVaccination\n",
      "100\n",
      "0.2724795640326976\n",
      "200\n",
      "0.5449591280653951\n",
      "300\n",
      "0.8174386920980926\n",
      "341795\n"
     ]
    }
   ],
   "source": [
    "print(search_keyword)\n",
    "doc_tw = []\n",
    "doc_main = []\n",
    "search_keyword = search_words[0]\n",
    "n = 0\n",
    "for ftem in date_list:\n",
    "    main_path = '/Users/arefeh/Desktop/tweet_api_new/'+str(search_keyword)+'/'+ftem+'/'\n",
    "    number_of_files = sum(f.endswith('.txt') for f in os.listdir(main_path))\n",
    "    #print(str(ftem)+str(number_of_files))\n",
    "    for ntem in range(number_of_files):\n",
    "        path = main_path+str(ntem)+'.txt'\n",
    "        doc_main.append(read_js_file(path)['text'])\n",
    "        cleaned_tweet = twitter_preprocessing(read_js_file(path)['text'])\n",
    "        doc_tw.append(cleaned_tweet)\n",
    "    n = n + 1\n",
    "    if n%100 ==0:\n",
    "        print(n)\n",
    "        print(n/len(date_list))\n",
    "print(len(doc_tw))"
   ]
  },
  {
   "cell_type": "code",
   "execution_count": 22,
   "metadata": {},
   "outputs": [
    {
     "data": {
      "text/plain": [
       "'#COVIDVaccination'"
      ]
     },
     "execution_count": 22,
     "metadata": {},
     "output_type": "execute_result"
    }
   ],
   "source": [
    "search_keyword"
   ]
  },
  {
   "cell_type": "code",
   "execution_count": 42,
   "metadata": {},
   "outputs": [
    {
     "data": {
      "text/plain": [
       "2395"
      ]
     },
     "execution_count": 42,
     "metadata": {},
     "output_type": "execute_result"
    }
   ],
   "source": [
    "len(doc_tw)"
   ]
  },
  {
   "cell_type": "code",
   "execution_count": 28,
   "metadata": {},
   "outputs": [
    {
     "name": "stdout",
     "output_type": "stream",
     "text": [
      "RT @Cartoon4sale: Martin Rowson on Lord Sumption's 'life less valuable' comments #Covidiots #antivax #coronavirus #COVID19 – political cart…\n",
      "martin rowson on lord sumption's 'life less valuable' comments covidiots antivax coronavirus covid19 political cart\n"
     ]
    }
   ],
   "source": [
    "print(doc_main[1])\n",
    "print(doc_tw[1])"
   ]
  },
  {
   "cell_type": "code",
   "execution_count": 20,
   "metadata": {},
   "outputs": [
    {
     "data": {
      "text/plain": [
       "148770"
      ]
     },
     "execution_count": 20,
     "metadata": {},
     "output_type": "execute_result"
    }
   ],
   "source": [
    "len(doc_tw)"
   ]
  },
  {
   "cell_type": "code",
   "execution_count": 13,
   "metadata": {},
   "outputs": [
    {
     "name": "stdout",
     "output_type": "stream",
     "text": [
      "100\n",
      "0.2724795640326976\n",
      "200\n",
      "0.5449591280653951\n",
      "300\n",
      "0.8174386920980926\n",
      "45726\n"
     ]
    }
   ],
   "source": [
    "index_tw = []\n",
    "n = 0\n",
    "for ftem in date_list:\n",
    "    main_path = '/Users/arefeh/Desktop/tweet_api/'+str(search_words)+'/'+ftem+'/'\n",
    "    number_of_files = sum(f.endswith('.txt') for f in os.listdir(main_path))\n",
    "    #print(str(ftem)+str(number_of_files))\n",
    "    for ntem in range(number_of_files):\n",
    "        path = main_path+str(ntem)+'.txt'\n",
    "        index_tw.append(str(ftem)+' '+str(number_of_files))\n",
    "    n = n + 1\n",
    "    if n%100 ==0:\n",
    "        print(n)\n",
    "        print(n/len(date_list))\n",
    "print(len(index_tw))"
   ]
  },
  {
   "cell_type": "code",
   "execution_count": 14,
   "metadata": {},
   "outputs": [
    {
     "data": {
      "text/plain": [
       "45726"
      ]
     },
     "execution_count": 14,
     "metadata": {},
     "output_type": "execute_result"
    }
   ],
   "source": [
    "len(index_tw)"
   ]
  },
  {
   "cell_type": "code",
   "execution_count": null,
   "metadata": {},
   "outputs": [],
   "source": [
    "with open('/Users/arefeh/Desktop/tweet_api_new/'+'index_file'+'/'+str(search_word)+'.txt', 'w') as f:\n",
    "    for item in index_tw:\n",
    "        f.write(item+'\\n')"
   ]
  }
 ],
 "metadata": {
  "kernelspec": {
   "display_name": "Python 3",
   "language": "python",
   "name": "python3"
  },
  "language_info": {
   "codemirror_mode": {
    "name": "ipython",
    "version": 3
   },
   "file_extension": ".py",
   "mimetype": "text/x-python",
   "name": "python",
   "nbconvert_exporter": "python",
   "pygments_lexer": "ipython3",
   "version": "3.6.8"
  }
 },
 "nbformat": 4,
 "nbformat_minor": 2
}
