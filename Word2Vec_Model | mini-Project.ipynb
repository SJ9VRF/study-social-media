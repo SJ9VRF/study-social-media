{
 "cells": [
  {
   "cell_type": "code",
   "execution_count": 50,
   "metadata": {},
   "outputs": [],
   "source": [
    "import pandas as pd\n",
    "import os\n",
    "import numpy as np\n",
    "from datetime import datetime\n",
    "import time\n",
    "\n",
    "from gensim.test.utils import common_texts\n",
    "from gensim.models import Word2Vec"
   ]
  },
  {
   "cell_type": "code",
   "execution_count": 401,
   "metadata": {},
   "outputs": [],
   "source": [
    "path_root = '/Users/arefeh/Desktop/tweet_api_new/'"
   ]
  },
  {
   "cell_type": "code",
   "execution_count": 1,
   "metadata": {},
   "outputs": [],
   "source": [
    "search_words = [\"#Covid\",\"#COVID AND #Fake\",\"#COVIDVaccination\",'#antiVax']\n",
    "data_read = []\n",
    "for search_word in search_words:\n",
    "    path_read = path_root+'cleaned'+'/'+str(search_word)+'.txt'\n",
    "    with open(path_read, 'r') as f:\n",
    "        data_read.append(f.readlines())"
   ]
  },
  {
   "cell_type": "code",
   "execution_count": 55,
   "metadata": {},
   "outputs": [],
   "source": [
    "def cosine_sim(v_1,v_2):\n",
    "    cosine_similarity = np.dot(v_1, v_2)/(np.linalg.norm(v_1)* np.linalg.norm(v_2))\n",
    "    return cosine_similarity"
   ]
  },
  {
   "cell_type": "code",
   "execution_count": 2,
   "metadata": {},
   "outputs": [],
   "source": [
    "data_all = data_read[0]+data_read[1]+data_read[2]+data_read[3]"
   ]
  },
  {
   "cell_type": "code",
   "execution_count": 3,
   "metadata": {},
   "outputs": [],
   "source": [
    "data_all = [item.rstrip('\\n') for item in data_all]"
   ]
  },
  {
   "cell_type": "code",
   "execution_count": 4,
   "metadata": {},
   "outputs": [],
   "source": [
    "del data_read"
   ]
  },
  {
   "cell_type": "code",
   "execution_count": 5,
   "metadata": {},
   "outputs": [],
   "source": [
    "doc_sent = []\n",
    "for item in data_all:\n",
    "    doc_sent.append(item.split())"
   ]
  },
  {
   "cell_type": "code",
   "execution_count": 8,
   "metadata": {},
   "outputs": [],
   "source": [
    "model = Word2Vec(min_count=1)\n",
    "model.build_vocab(sentences=doc_sent)  # prepare the model vocabulary"
   ]
  },
  {
   "cell_type": "code",
   "execution_count": 9,
   "metadata": {},
   "outputs": [
    {
     "data": {
      "text/plain": [
       "(49588731, 67013825)"
      ]
     },
     "execution_count": 9,
     "metadata": {},
     "output_type": "execute_result"
    }
   ],
   "source": [
    "model.train(sentences=doc_sent, total_examples=model.corpus_count, epochs=model.epochs)  # train word vectors"
   ]
  },
  {
   "cell_type": "code",
   "execution_count": 23,
   "metadata": {},
   "outputs": [],
   "source": [
    "model.save(path_root+'wv_models'+'/'+\"word2vec.model\")"
   ]
  },
  {
   "cell_type": "code",
   "execution_count": 10,
   "metadata": {},
   "outputs": [
    {
     "name": "stdout",
     "output_type": "stream",
     "text": [
      "0.1451465050245679\n",
      "0.33111827645344394\n"
     ]
    },
    {
     "name": "stderr",
     "output_type": "stream",
     "text": [
      "/Users/arefeh/anaconda3/lib/python3.6/site-packages/ipykernel_launcher.py:1: DeprecationWarning: Call to deprecated `similarity` (Method will be removed in 4.0.0, use self.wv.similarity() instead).\n",
      "  \"\"\"Entry point for launching an IPython kernel.\n",
      "/Users/arefeh/anaconda3/lib/python3.6/site-packages/ipykernel_launcher.py:2: DeprecationWarning: Call to deprecated `similarity` (Method will be removed in 4.0.0, use self.wv.similarity() instead).\n",
      "  \n"
     ]
    }
   ],
   "source": [
    "print(model.similarity('covid','antivax'))\n",
    "print(model.similarity('covid','vaccine'))"
   ]
  },
  {
   "cell_type": "code",
   "execution_count": 14,
   "metadata": {},
   "outputs": [],
   "source": [
    "model_path = path_root +'wv_models'+'/'"
   ]
  },
  {
   "cell_type": "code",
   "execution_count": 15,
   "metadata": {},
   "outputs": [],
   "source": [
    "from gensim.models import KeyedVectors"
   ]
  },
  {
   "cell_type": "code",
   "execution_count": 16,
   "metadata": {},
   "outputs": [],
   "source": [
    "\n",
    "# Store just the words + their trained embeddings.\n",
    "word_vectors = model.wv\n",
    "word_vectors.save(model_path+\"word2vec.wordvectors\")\n",
    "# Load back with memory-mapping = read-only, shared across processes.\n",
    "wv = KeyedVectors.load(model_path+\"word2vec.wordvectors\", mmap='r')\n",
    "vector = wv['computer']  # Get numpy vector of a word"
   ]
  },
  {
   "cell_type": "code",
   "execution_count": 17,
   "metadata": {},
   "outputs": [],
   "source": [
    "wv = KeyedVectors.load(model_path+\"word2vec.wordvectors\", mmap='r')"
   ]
  },
  {
   "cell_type": "code",
   "execution_count": 18,
   "metadata": {},
   "outputs": [],
   "source": [
    "def doc2vec(doc_sent):\n",
    "    global wv\n",
    "    vector_doc_sent = []\n",
    "    for item in doc_sent.split():\n",
    "        vector = np.zeros(100)\n",
    "        n_words = 0\n",
    "        for Jtem in item:\n",
    "            if Jtem in wv.vocab:\n",
    "                vector = wv[Jtem] + vector\n",
    "                n_words = n_words + 1\n",
    "        vector = vector/n_words\n",
    "        vector_doc_sent.append(vector)\n",
    "    return vector_doc_sent"
   ]
  },
  {
   "cell_type": "code",
   "execution_count": 19,
   "metadata": {},
   "outputs": [],
   "source": [
    "def tweet2vec(tw_sent):\n",
    "    global wv\n",
    "    vector = np.zeros(100)\n",
    "    n_words = 0\n",
    "    for item in tw_sent.split(): \n",
    "        if item in wv.vocab:\n",
    "            vector = wv[item] + vector\n",
    "            n_words = n_words + 1\n",
    "    if n_words>0:\n",
    "        vector = vector/n_words\n",
    "    return vector"
   ]
  },
  {
   "cell_type": "code",
   "execution_count": 31,
   "metadata": {},
   "outputs": [],
   "source": [
    "date = list(pd.date_range(start=\"2020-01-10\",end=\"2021-01-10\"))\n",
    "date_list = [str(item).split()[0] for item in date]"
   ]
  },
  {
   "cell_type": "code",
   "execution_count": null,
   "metadata": {},
   "outputs": [],
   "source": [
    "search_words = [\"#COVIDVaccination\", \"#antiVax\",\"#Covid AND #Fake\",\"#Covid\",\"anti-vaccine\",\"#Corona\",\"#Covid19\",\"#Covid-19\"]\n",
    "search_words = search_words[:4]\n",
    "word_tw = []\n",
    "index_tw = []\n",
    "n = 0\n",
    "for search_word in search_words:\n",
    "    for ftem in date_list:\n",
    "        main_path = path_root+str(search_word)+'/'+ftem+'/'\n",
    "        number_of_files = sum(f.endswith('.txt') for f in os.listdir(main_path))\n",
    "        #print(str(ftem)+str(number_of_files))\n",
    "        for ntem in range(number_of_files):\n",
    "            path = main_path+str(ntem)+'.txt'\n",
    "            index_tw.append(str(ftem)+' '+str(number_of_files))\n",
    "        n = n + 1\n",
    "        if n%100 ==0:\n",
    "            print(n)\n",
    "            print(n/len(date_list))"
   ]
  },
  {
   "cell_type": "code",
   "execution_count": 44,
   "metadata": {},
   "outputs": [],
   "source": [
    "search_words = [\"#Covid\",\"#COVID AND #Fake\",\"#COVIDVaccination\",'#antiVax']\n",
    "data_read = []\n",
    "for search_word in search_words:\n",
    "    path_read = path_root+'cleaned'+'/'+str(search_word)+'.txt'\n",
    "    with open(path_read, 'r') as f:\n",
    "        data_read.append(f.readlines())"
   ]
  },
  {
   "cell_type": "code",
   "execution_count": 46,
   "metadata": {},
   "outputs": [
    {
     "name": "stdout",
     "output_type": "stream",
     "text": [
      "0\n",
      "1\n",
      "2\n",
      "3\n"
     ]
    }
   ],
   "source": [
    "for i in range(len(data_read)):\n",
    "    data_read[i] = [item.rstrip('\\n') for item in data_read[i]]\n",
    "    print(i)"
   ]
  },
  {
   "cell_type": "code",
   "execution_count": 51,
   "metadata": {
    "scrolled": true
   },
   "outputs": [
    {
     "name": "stdout",
     "output_type": "stream",
     "text": [
      "332536\n",
      "0\n",
      "0.0\n",
      "0.030071932061491086\n",
      "0.06014386412298217\n",
      "0.09021579618447326\n",
      "0.12028772824596434\n",
      "0.15035966030745543\n",
      "0.18043159236894651\n",
      "0.2105035244304376\n",
      "0.24057545649192869\n",
      "0.2706473885534198\n",
      "0.30071932061491086\n",
      "0.33079125267640197\n",
      "0.36086318473789303\n",
      "0.39093511679938414\n",
      "0.4210070488608752\n",
      "0.4510789809223663\n",
      "0.48115091298385737\n",
      "0.5112228450453484\n",
      "0.5412947771068396\n",
      "0.5713667091683307\n",
      "0.6014386412298217\n",
      "0.6315105732913128\n",
      "0.6615825053528039\n",
      "0.691654437414295\n",
      "0.7217263694757861\n",
      "0.7517983015372771\n",
      "0.7818702335987683\n",
      "0.8119421656602593\n",
      "0.8420140977217504\n",
      "0.8720860297832416\n",
      "0.9021579618447326\n",
      "0.9322298939062237\n",
      "0.9623018259677147\n",
      "0.9923737580292059\n",
      "ready to write\n",
      "2395\n",
      "1\n",
      "0.0\n",
      "ready to write\n",
      "341795\n",
      "2\n",
      "0.0\n",
      "0.02925730335434983\n",
      "0.05851460670869966\n",
      "0.08777191006304949\n",
      "0.11702921341739932\n",
      "0.14628651677174914\n",
      "0.17554382012609898\n",
      "0.2048011234804488\n",
      "0.23405842683479863\n",
      "0.26331573018914844\n",
      "0.2925730335434983\n",
      "0.3218303368978481\n",
      "0.35108764025219796\n",
      "0.3803449436065478\n",
      "0.4096022469608976\n",
      "0.4388595503152474\n",
      "0.46811685366959727\n",
      "0.4973741570239471\n",
      "0.5266314603782969\n",
      "0.5558887637326467\n",
      "0.5851460670869966\n",
      "0.6144033704413464\n",
      "0.6436606737956962\n",
      "0.6729179771500461\n",
      "0.7021752805043959\n",
      "0.7314325838587458\n",
      "0.7606898872130956\n",
      "0.7899471905674454\n",
      "0.8192044939217952\n",
      "0.848461797276145\n",
      "0.8777191006304949\n",
      "0.9069764039848447\n",
      "0.9362337073391945\n",
      "0.9654910106935444\n",
      "0.9947483140478942\n",
      "ready to write\n",
      "148770\n",
      "3\n",
      "0.0\n",
      "0.0672178530617732\n",
      "0.1344357061235464\n",
      "0.20165355918531963\n",
      "0.2688714122470928\n",
      "0.336089265308866\n",
      "0.40330711837063926\n",
      "0.47052497143241245\n",
      "0.5377428244941856\n",
      "0.6049606775559588\n",
      "0.672178530617732\n",
      "0.7393963836795053\n",
      "0.8066142367412785\n",
      "0.8738320898030517\n",
      "0.9410499428648249\n",
      "ready to write\n"
     ]
    }
   ],
   "source": [
    "vectors = []\n",
    "i = 0\n",
    "for item in data_read:\n",
    "    print(len(item))\n",
    "    vector_item = []\n",
    "    print(i)\n",
    "    m = 0\n",
    "    for Jtem in item:\n",
    "        vector_item.append(tweet2vec(Jtem))\n",
    "        if m%10000 == 0:\n",
    "            print(m/len(item))\n",
    "        m = m +1\n",
    "    #np.save('array.npy', data)\n",
    "    vectors.append(vector_item)\n",
    "    print('ready to write')\n",
    "    #start = time.time()\n",
    "    #np.savetxt('/Users/arefeh/Desktop/tweet_api/'+'wv_vectors'+'/'+str(search_words[i])+'.npy', vector_item, delimiter=\",\",fmt='%s')\n",
    "    np.savetxt(path_root+'wv_vectors'+'/'+str(search_words[i])+'.txt', vector_item, delimiter=\",\",fmt='%s')\n",
    "    #done = time.time()\n",
    "    i = i+1"
   ]
  },
  {
   "cell_type": "code",
   "execution_count": 16,
   "metadata": {},
   "outputs": [
    {
     "data": {
      "text/plain": [
       "4"
      ]
     },
     "execution_count": 16,
     "metadata": {},
     "output_type": "execute_result"
    }
   ],
   "source": [
    "len(vectors)"
   ]
  },
  {
   "cell_type": "code",
   "execution_count": null,
   "metadata": {},
   "outputs": [],
   "source": [
    "text_vec = np.loadtxt('/Users/arefeh/Desktop/tweet_api/'+'wv_vectors'+'/'+str(search_words[0])+'.npy',delimiter=\",\")\n",
    "print(len(text_vec))\n",
    "print(len(vectors[1]))"
   ]
  },
  {
   "cell_type": "code",
   "execution_count": 28,
   "metadata": {},
   "outputs": [],
   "source": [
    "similarity_all = []"
   ]
  },
  {
   "cell_type": "code",
   "execution_count": 53,
   "metadata": {},
   "outputs": [],
   "source": [
    "import time"
   ]
  },
  {
   "cell_type": "code",
   "execution_count": 93,
   "metadata": {
    "scrolled": false
   },
   "outputs": [
    {
     "name": "stdout",
     "output_type": "stream",
     "text": [
      "computed percent\n",
      "0.0\n",
      "time\n",
      "0.0004558563232421875\n",
      "computed percent\n",
      "0.030071932061491086\n",
      "time\n",
      "0.7367589473724365\n"
     ]
    },
    {
     "name": "stderr",
     "output_type": "stream",
     "text": [
      "/Users/arefeh/anaconda3/lib/python3.6/site-packages/ipykernel_launcher.py:2: RuntimeWarning: invalid value encountered in double_scalars\n",
      "  \n"
     ]
    },
    {
     "name": "stdout",
     "output_type": "stream",
     "text": [
      "computed percent\n",
      "0.06014386412298217\n",
      "time\n",
      "0.9806671142578125\n",
      "computed percent\n",
      "0.09021579618447326\n",
      "time\n",
      "0.6861908435821533\n",
      "computed percent\n",
      "0.12028772824596434\n",
      "time\n",
      "0.6868569850921631\n",
      "computed percent\n",
      "0.15035966030745543\n",
      "time\n",
      "0.6838779449462891\n",
      "computed percent\n",
      "0.18043159236894651\n",
      "time\n",
      "0.6753699779510498\n",
      "computed percent\n",
      "0.2105035244304376\n",
      "time\n",
      "0.7410941123962402\n",
      "computed percent\n",
      "0.24057545649192869\n",
      "time\n",
      "0.8922607898712158\n",
      "computed percent\n",
      "0.2706473885534198\n",
      "time\n",
      "0.8146851062774658\n",
      "computed percent\n",
      "0.30071932061491086\n",
      "time\n",
      "0.9469907283782959\n",
      "computed percent\n",
      "0.33079125267640197\n",
      "time\n",
      "0.7158920764923096\n",
      "computed percent\n",
      "0.36086318473789303\n",
      "time\n",
      "0.7064802646636963\n",
      "computed percent\n",
      "0.39093511679938414\n",
      "time\n",
      "0.7029039859771729\n",
      "computed percent\n",
      "0.4210070488608752\n",
      "time\n",
      "0.7017850875854492\n",
      "computed percent\n",
      "0.4510789809223663\n",
      "time\n",
      "0.7031478881835938\n",
      "computed percent\n",
      "0.48115091298385737\n",
      "time\n",
      "0.7007899284362793\n",
      "computed percent\n",
      "0.5112228450453484\n",
      "time\n",
      "0.7178030014038086\n",
      "computed percent\n",
      "0.5412947771068396\n",
      "time\n",
      "0.6961760520935059\n",
      "computed percent\n",
      "0.5713667091683307\n",
      "time\n",
      "0.7051651477813721\n",
      "computed percent\n",
      "0.6014386412298217\n",
      "time\n",
      "0.7026619911193848\n",
      "computed percent\n",
      "0.6315105732913128\n",
      "time\n",
      "0.7119040489196777\n",
      "computed percent\n",
      "0.6615825053528039\n",
      "time\n",
      "0.9872488975524902\n",
      "computed percent\n",
      "0.691654437414295\n",
      "time\n",
      "1.3174769878387451\n",
      "computed percent\n",
      "0.7217263694757861\n",
      "time\n",
      "1.0786082744598389\n",
      "computed percent\n",
      "0.7517983015372771\n",
      "time\n",
      "0.8310701847076416\n",
      "computed percent\n",
      "0.7818702335987683\n",
      "time\n",
      "0.6848421096801758\n",
      "computed percent\n",
      "0.8119421656602593\n",
      "time\n",
      "0.7004199028015137\n",
      "computed percent\n",
      "0.8420140977217504\n",
      "time\n",
      "0.6730830669403076\n",
      "computed percent\n",
      "0.8720860297832416\n",
      "time\n",
      "0.7002623081207275\n",
      "computed percent\n",
      "0.9021579618447326\n",
      "time\n",
      "0.6859607696533203\n",
      "computed percent\n",
      "0.9322298939062237\n",
      "time\n",
      "0.7032740116119385\n",
      "computed percent\n",
      "0.9623018259677147\n",
      "time\n",
      "0.6703457832336426\n",
      "computed percent\n",
      "0.9923737580292059\n",
      "time\n",
      "0.6776061058044434\n"
     ]
    }
   ],
   "source": [
    "#vector similarity to Vaccine\n",
    "siminarity_all_ant = []\n",
    "n = 0\n",
    "#vectors_covid\n",
    "start = time.time()\n",
    "for item in vectors[0]:\n",
    "    \n",
    "    if n%10000==0:\n",
    "        print('computed percent')\n",
    "        print(n/len(vectors[0]))\n",
    "        end = time.time()\n",
    "        print('time')\n",
    "        print(end - start)\n",
    "        start = time.time()\n",
    "    \n",
    "    siminarity_item = []\n",
    "    \n",
    "    #vectors\n",
    "    siminarity_item.append(max(cosine_sim(item, wv['antivax']),cosine_sim(item, wv['antivaccine'])))\n",
    "    siminarity_item.append(cosine_sim(item, wv['vaccine']))\n",
    "    \n",
    "    \n",
    "    \n",
    "    vac_sent = 'pos'\n",
    "    if siminarity_item[0]>siminarity_item[1]:\n",
    "        vac_sent = 'neg'\n",
    "    else:\n",
    "        vac_sent = 'pos'\n",
    "        \n",
    "    siminarity_all_ant.append(vac_sent)\n",
    "    n = n + 1"
   ]
  },
  {
   "cell_type": "code",
   "execution_count": 131,
   "metadata": {},
   "outputs": [
    {
     "name": "stdout",
     "output_type": "stream",
     "text": [
      "computed percent\n",
      "0.0\n",
      "time\n",
      "0.0007402896881103516\n",
      "computed percent\n",
      "0.030071932061491086\n",
      "time\n",
      "1.0458569526672363\n"
     ]
    },
    {
     "name": "stderr",
     "output_type": "stream",
     "text": [
      "/Users/arefeh/anaconda3/lib/python3.6/site-packages/ipykernel_launcher.py:2: RuntimeWarning: invalid value encountered in double_scalars\n",
      "  \n"
     ]
    },
    {
     "name": "stdout",
     "output_type": "stream",
     "text": [
      "computed percent\n",
      "0.06014386412298217\n",
      "time\n",
      "1.026963233947754\n",
      "computed percent\n",
      "0.09021579618447326\n",
      "time\n",
      "1.271712064743042\n",
      "computed percent\n",
      "0.12028772824596434\n",
      "time\n",
      "1.3408939838409424\n",
      "computed percent\n",
      "0.15035966030745543\n",
      "time\n",
      "1.2955563068389893\n",
      "computed percent\n",
      "0.18043159236894651\n",
      "time\n",
      "0.9934229850769043\n",
      "computed percent\n",
      "0.2105035244304376\n",
      "time\n",
      "0.9706988334655762\n",
      "computed percent\n",
      "0.24057545649192869\n",
      "time\n",
      "1.0010418891906738\n",
      "computed percent\n",
      "0.2706473885534198\n",
      "time\n",
      "0.9827489852905273\n",
      "computed percent\n",
      "0.30071932061491086\n",
      "time\n",
      "1.0900349617004395\n",
      "computed percent\n",
      "0.33079125267640197\n",
      "time\n",
      "1.021211862564087\n",
      "computed percent\n",
      "0.36086318473789303\n",
      "time\n",
      "0.9924390316009521\n",
      "computed percent\n",
      "0.39093511679938414\n",
      "time\n",
      "1.2145700454711914\n",
      "computed percent\n",
      "0.4210070488608752\n",
      "time\n",
      "1.435899019241333\n",
      "computed percent\n",
      "0.4510789809223663\n",
      "time\n",
      "1.041506052017212\n",
      "computed percent\n",
      "0.48115091298385737\n",
      "time\n",
      "0.9785740375518799\n",
      "computed percent\n",
      "0.5112228450453484\n",
      "time\n",
      "0.9979181289672852\n",
      "computed percent\n",
      "0.5412947771068396\n",
      "time\n",
      "1.3188741207122803\n",
      "computed percent\n",
      "0.5713667091683307\n",
      "time\n",
      "1.0351200103759766\n",
      "computed percent\n",
      "0.6014386412298217\n",
      "time\n",
      "1.2224252223968506\n",
      "computed percent\n",
      "0.6315105732913128\n",
      "time\n",
      "1.053297996520996\n",
      "computed percent\n",
      "0.6615825053528039\n",
      "time\n",
      "1.0013539791107178\n",
      "computed percent\n",
      "0.691654437414295\n",
      "time\n",
      "1.3934681415557861\n",
      "computed percent\n",
      "0.7217263694757861\n",
      "time\n",
      "1.2544848918914795\n",
      "computed percent\n",
      "0.7517983015372771\n",
      "time\n",
      "1.20371413230896\n",
      "computed percent\n",
      "0.7818702335987683\n",
      "time\n",
      "1.8189609050750732\n",
      "computed percent\n",
      "0.8119421656602593\n",
      "time\n",
      "1.7182819843292236\n",
      "computed percent\n",
      "0.8420140977217504\n",
      "time\n",
      "1.1413350105285645\n",
      "computed percent\n",
      "0.8720860297832416\n",
      "time\n",
      "0.9893798828125\n",
      "computed percent\n",
      "0.9021579618447326\n",
      "time\n",
      "1.0146639347076416\n",
      "computed percent\n",
      "0.9322298939062237\n",
      "time\n",
      "1.1554241180419922\n",
      "computed percent\n",
      "0.9623018259677147\n",
      "time\n",
      "1.0622668266296387\n",
      "computed percent\n",
      "0.9923737580292059\n",
      "time\n",
      "1.060096025466919\n"
     ]
    }
   ],
   "source": [
    "#vector similarity Stress\n",
    "siminarity_all_mental_health = []\n",
    "n = 0\n",
    "#vectors_covid\n",
    "start = time.time()\n",
    "for item in vectors[0]:\n",
    "    \n",
    "    if n%10000==0:\n",
    "        print('computed percent')\n",
    "        print(n/len(vectors[0]))\n",
    "        end = time.time()\n",
    "        print('time')\n",
    "        print(end - start)\n",
    "        start = time.time()\n",
    "    \n",
    "    siminarity_item = []\n",
    "    \n",
    "    #vectors\n",
    "    siminarity_item.append(max(cosine_sim(item, wv['stress']),cosine_sim(item, wv['sad'])))\n",
    "    siminarity_item.append(max(cosine_sim(item, wv['relax']),cosine_sim(item, wv['happy'])))\n",
    "    \n",
    "    \n",
    "    \n",
    "    vac_sent = 'relax'\n",
    "    if siminarity_item[0]>siminarity_item[1]:\n",
    "        vac_sent = 'stress'\n",
    "    else:\n",
    "        vac_sent = 'relax'\n",
    "        \n",
    "    siminarity_all_mental_health.append(vac_sent)\n",
    "    n = n + 1"
   ]
  },
  {
   "cell_type": "code",
   "execution_count": 83,
   "metadata": {},
   "outputs": [
    {
     "data": {
      "text/plain": [
       "['#Covid', '#COVID AND #Fake', '#COVIDVaccination', '#antiVax']"
      ]
     },
     "execution_count": 83,
     "metadata": {},
     "output_type": "execute_result"
    }
   ],
   "source": [
    "search_words"
   ]
  },
  {
   "cell_type": "code",
   "execution_count": 84,
   "metadata": {},
   "outputs": [],
   "source": [
    "ind_date = []\n",
    "search_keyword = search_words[0]\n",
    "prev = 0\n",
    "for item in date_list:\n",
    "    main_path = path_root+search_keyword+'/'+item+'/'\n",
    "    number_of_files = sum(f.endswith('.txt') for f in os.listdir(main_path))\n",
    "    value_file = number_of_files + prev\n",
    "    ind_date.append([item, value_file])\n",
    "    prev = value_file"
   ]
  },
  {
   "cell_type": "code",
   "execution_count": 85,
   "metadata": {},
   "outputs": [
    {
     "data": {
      "text/plain": [
       "['2021-01-09', 331536]"
      ]
     },
     "execution_count": 85,
     "metadata": {},
     "output_type": "execute_result"
    }
   ],
   "source": [
    "ind_date[365]"
   ]
  },
  {
   "cell_type": "code",
   "execution_count": 86,
   "metadata": {},
   "outputs": [],
   "source": [
    "import json\n",
    "def read_js_file(path_file_path):    \n",
    "    with open(path_file_path) as jsonfile:\n",
    "        data = json.load(jsonfile)\n",
    "    return data"
   ]
  },
  {
   "cell_type": "code",
   "execution_count": 87,
   "metadata": {},
   "outputs": [
    {
     "name": "stdout",
     "output_type": "stream",
     "text": [
      "2020-01-10 1000\n",
      "2020-01-11 1000\n",
      "2020-01-12 1000\n",
      "2020-01-13 1000\n",
      "2020-01-14 1000\n",
      "2020-01-15 1000\n",
      "2020-01-16 1000\n",
      "2020-01-17 1000\n",
      "2020-01-18 1000\n",
      "2020-01-19 1000\n",
      "2020-01-20 1000\n",
      "2020-01-21 1000\n",
      "2020-01-22 1000\n",
      "2020-01-23 567\n",
      "2020-01-24 1000\n",
      "2020-01-25 1000\n",
      "2020-01-26 1000\n",
      "2020-01-27 1000\n",
      "2020-01-28 1000\n",
      "2020-01-29 1000\n",
      "2020-01-30 1000\n",
      "2020-01-31 1000\n",
      "2020-02-01 1000\n",
      "2020-02-02 1000\n",
      "2020-02-03 1000\n",
      "2020-02-04 1000\n",
      "2020-02-05 1000\n",
      "2020-02-06 1000\n",
      "2020-02-07 1000\n",
      "2020-02-08 1000\n",
      "2020-02-09 1000\n",
      "2020-02-10 1000\n",
      "2020-02-11 1000\n",
      "2020-02-12 1000\n",
      "2020-02-13 1000\n",
      "2020-02-14 1000\n",
      "2020-02-15 1000\n",
      "2020-02-16 1000\n",
      "2020-02-17 1000\n",
      "2020-02-18 1000\n",
      "2020-02-19 1000\n",
      "2020-02-20 1000\n",
      "2020-02-21 1000\n",
      "2020-02-22 1000\n",
      "2020-02-23 1000\n",
      "2020-02-24 1000\n",
      "2020-02-25 1000\n",
      "2020-02-26 1000\n",
      "2020-02-27 1000\n",
      "2020-02-28 1000\n",
      "2020-02-29 1000\n",
      "2020-03-01 1000\n",
      "2020-03-02 1000\n",
      "2020-03-03 1000\n",
      "2020-03-04 1000\n",
      "2020-03-05 136\n",
      "2020-03-06 1000\n",
      "2020-03-07 1000\n",
      "2020-03-08 1000\n",
      "2020-03-09 1000\n",
      "2020-03-10 1000\n",
      "2020-03-11 1000\n",
      "2020-03-12 1000\n",
      "2020-03-13 1000\n",
      "2020-03-14 1000\n",
      "2020-03-15 1000\n",
      "2020-03-16 1000\n",
      "2020-03-17 1000\n",
      "2020-03-18 1000\n",
      "2020-03-19 1000\n",
      "2020-03-20 1000\n",
      "2020-03-21 1000\n",
      "2020-03-22 1000\n",
      "2020-03-23 1000\n",
      "2020-03-24 1000\n",
      "2020-03-25 1000\n",
      "2020-03-26 1000\n",
      "2020-03-27 1000\n",
      "2020-03-28 1000\n",
      "2020-03-29 1000\n",
      "2020-03-30 1000\n",
      "2020-03-31 1000\n",
      "2020-04-01 1000\n",
      "2020-04-02 1000\n",
      "2020-04-03 1000\n",
      "2020-04-04 1000\n",
      "2020-04-05 1000\n",
      "2020-04-06 1000\n",
      "2020-04-07 1000\n",
      "2020-04-08 1000\n",
      "2020-04-09 1000\n",
      "2020-04-10 1000\n",
      "2020-04-11 1000\n",
      "2020-04-12 1000\n",
      "2020-04-13 1000\n",
      "2020-04-14 1000\n",
      "2020-04-15 1000\n",
      "2020-04-16 1000\n",
      "2020-04-17 1000\n",
      "2020-04-18 1000\n",
      "100\n",
      "0.2724795640326976\n",
      "2020-04-19 1000\n",
      "2020-04-20 1000\n",
      "2020-04-21 1000\n",
      "2020-04-22 1000\n",
      "2020-04-23 1000\n",
      "2020-04-24 1000\n",
      "2020-04-25 1000\n",
      "2020-04-26 1000\n",
      "2020-04-27 1000\n",
      "2020-04-28 1000\n",
      "2020-04-29 1000\n",
      "2020-04-30 1000\n",
      "2020-05-01 1000\n",
      "2020-05-02 1000\n",
      "2020-05-03 1000\n",
      "2020-05-04 1000\n",
      "2020-05-05 1000\n",
      "2020-05-06 1000\n",
      "2020-05-07 1000\n",
      "2020-05-08 1000\n",
      "2020-05-09 1000\n",
      "2020-05-10 1000\n",
      "2020-05-11 1000\n",
      "2020-05-12 1000\n",
      "2020-05-13 1000\n",
      "2020-05-14 1000\n",
      "2020-05-15 1000\n",
      "2020-05-16 1000\n",
      "2020-05-17 1000\n",
      "2020-05-18 1000\n",
      "2020-05-19 1000\n",
      "2020-05-20 1000\n",
      "2020-05-21 1000\n",
      "2020-05-22 1000\n",
      "2020-05-23 1000\n",
      "2020-05-24 1000\n",
      "2020-05-25 1000\n",
      "2020-05-26 1000\n",
      "2020-05-27 1000\n",
      "2020-05-28 1000\n",
      "2020-05-29 1000\n",
      "2020-05-30 1000\n",
      "2020-05-31 1000\n",
      "2020-06-01 1000\n",
      "2020-06-02 1000\n",
      "2020-06-03 1000\n",
      "2020-06-04 1000\n",
      "2020-06-05 1000\n",
      "2020-06-06 1000\n",
      "2020-06-07 1000\n",
      "2020-06-08 1000\n",
      "2020-06-09 1000\n",
      "2020-06-10 1000\n",
      "2020-06-11 1000\n",
      "2020-06-12 1000\n",
      "2020-06-13 1000\n",
      "2020-06-14 1000\n",
      "2020-06-15 1000\n",
      "2020-06-16 1000\n",
      "2020-06-17 1000\n",
      "2020-06-18 1000\n",
      "2020-06-19 1000\n",
      "2020-06-20 1000\n",
      "2020-06-21 1000\n",
      "2020-06-22 1000\n",
      "2020-06-23 1000\n",
      "2020-06-24 1000\n",
      "2020-06-25 1000\n",
      "2020-06-26 1000\n",
      "2020-06-27 771\n",
      "2020-06-28 1000\n",
      "2020-06-29 1000\n",
      "2020-06-30 1000\n",
      "2020-07-01 1000\n",
      "2020-07-02 1000\n",
      "2020-07-03 479\n",
      "2020-07-04 1000\n",
      "2020-07-05 1000\n",
      "2020-07-06 590\n",
      "2020-07-07 1000\n",
      "2020-07-08 1000\n",
      "2020-07-09 1000\n",
      "2020-07-10 1000\n",
      "2020-07-11 1000\n",
      "2020-07-12 1000\n",
      "2020-07-13 1000\n",
      "2020-07-14 1000\n",
      "2020-07-15 1000\n",
      "2020-07-16 1000\n",
      "2020-07-17 1000\n",
      "2020-07-18 1000\n",
      "2020-07-19 1000\n",
      "2020-07-20 1000\n",
      "2020-07-21 1000\n",
      "2020-07-22 1000\n",
      "2020-07-23 1000\n",
      "2020-07-24 1000\n",
      "2020-07-25 1000\n",
      "2020-07-26 1000\n",
      "2020-07-27 1000\n",
      "200\n",
      "0.5449591280653951\n",
      "2020-07-28 1000\n",
      "2020-07-29 149\n",
      "2020-07-30 1000\n",
      "2020-07-31 1000\n",
      "2020-08-01 1000\n",
      "2020-08-02 1000\n",
      "2020-08-03 1000\n",
      "2020-08-04 1000\n",
      "2020-08-05 554\n",
      "2020-08-06 335\n",
      "2020-08-07 1000\n",
      "2020-08-08 1000\n",
      "2020-08-09 944\n",
      "2020-08-10 1000\n",
      "2020-08-11 430\n",
      "2020-08-12 43\n",
      "2020-08-13 1000\n",
      "2020-08-14 1000\n",
      "2020-08-15 1000\n",
      "2020-08-16 1000\n",
      "2020-08-17 1000\n",
      "2020-08-18 643\n",
      "2020-08-19 392\n",
      "2020-08-20 317\n",
      "2020-08-21 72\n",
      "2020-08-22 1000\n",
      "2020-08-23 1000\n",
      "2020-08-24 1000\n",
      "2020-08-25 1000\n",
      "2020-08-26 1000\n",
      "2020-08-27 1000\n",
      "2020-08-28 892\n",
      "2020-08-29 570\n",
      "2020-08-30 1000\n",
      "2020-08-31 245\n",
      "2020-09-01 1000\n",
      "2020-09-02 1000\n",
      "2020-09-03 1000\n",
      "2020-09-04 1000\n",
      "2020-09-05 1000\n",
      "2020-09-06 1000\n",
      "2020-09-07 1000\n",
      "2020-09-08 1000\n",
      "2020-09-09 1000\n",
      "2020-09-10 804\n",
      "2020-09-11 1000\n",
      "2020-09-12 1000\n",
      "2020-09-13 1000\n",
      "2020-09-14 203\n",
      "2020-09-15 43\n",
      "2020-09-16 1000\n",
      "2020-09-17 1000\n",
      "2020-09-18 1000\n",
      "2020-09-19 1000\n",
      "2020-09-20 1000\n",
      "2020-09-21 744\n",
      "2020-09-22 1000\n",
      "2020-09-23 894\n",
      "2020-09-24 1000\n",
      "2020-09-25 318\n",
      "2020-09-26 1000\n",
      "2020-09-27 1000\n",
      "2020-09-28 1000\n",
      "2020-09-29 60\n",
      "2020-09-30 408\n",
      "2020-10-01 15\n",
      "2020-10-02 28\n",
      "2020-10-03 0\n",
      "---------------: 267\n",
      "2020-10-04 120\n",
      "2020-10-05 15\n",
      "2020-10-06 0\n",
      "---------------: 270\n",
      "2020-10-07 30\n",
      "2020-10-08 281\n",
      "2020-10-09 214\n",
      "2020-10-10 547\n",
      "2020-10-11 0\n",
      "---------------: 275\n",
      "2020-10-12 121\n",
      "2020-10-13 57\n",
      "2020-10-14 44\n",
      "2020-10-15 1000\n",
      "2020-10-16 752\n",
      "2020-10-17 0\n",
      "---------------: 281\n",
      "2020-10-18 242\n",
      "2020-10-19 174\n",
      "2020-10-20 205\n",
      "2020-10-21 15\n",
      "2020-10-22 90\n",
      "2020-10-23 1000\n",
      "2020-10-24 1000\n",
      "2020-10-25 630\n",
      "2020-10-26 1000\n",
      "2020-10-27 59\n",
      "2020-10-28 1000\n",
      "2020-10-29 1000\n",
      "2020-10-30 1000\n",
      "2020-10-31 599\n",
      "2020-11-01 718\n",
      "2020-11-02 1000\n",
      "2020-11-03 1000\n",
      "2020-11-04 1000\n",
      "300\n",
      "0.8174386920980926\n",
      "2020-11-05 1000\n",
      "2020-11-06 1000\n",
      "2020-11-07 1000\n",
      "2020-11-08 1000\n",
      "2020-11-09 1000\n",
      "2020-11-10 1000\n",
      "2020-11-11 1000\n",
      "2020-11-12 1000\n",
      "2020-11-13 1000\n",
      "2020-11-14 1000\n",
      "2020-11-15 1000\n",
      "2020-11-16 1000\n",
      "2020-11-17 1000\n",
      "2020-11-18 1000\n",
      "2020-11-19 1000\n",
      "2020-11-20 1000\n",
      "2020-11-21 1000\n",
      "2020-11-22 1000\n",
      "2020-11-23 1000\n",
      "2020-11-24 1000\n",
      "2020-11-25 1000\n",
      "2020-11-26 1000\n",
      "2020-11-27 1000\n",
      "2020-11-28 1000\n",
      "2020-11-29 1000\n",
      "2020-11-30 1000\n",
      "2020-12-01 1000\n",
      "2020-12-02 1000\n",
      "2020-12-03 1000\n",
      "2020-12-04 1000\n",
      "2020-12-05 1000\n",
      "2020-12-06 1000\n",
      "2020-12-07 1000\n",
      "2020-12-08 1000\n",
      "2020-12-09 1000\n",
      "2020-12-10 1000\n",
      "2020-12-11 1000\n",
      "2020-12-12 1000\n",
      "2020-12-13 1000\n",
      "2020-12-14 1000\n",
      "2020-12-15 1000\n",
      "2020-12-16 1000\n",
      "2020-12-17 1000\n",
      "2020-12-18 1000\n",
      "2020-12-19 1000\n",
      "2020-12-20 1000\n",
      "2020-12-21 1000\n",
      "2020-12-22 1000\n",
      "2020-12-23 1000\n",
      "2020-12-24 1000\n",
      "2020-12-25 1000\n",
      "2020-12-26 1000\n",
      "2020-12-27 1000\n",
      "2020-12-28 1000\n",
      "2020-12-29 1000\n",
      "2020-12-30 1000\n",
      "2020-12-31 1000\n",
      "2021-01-01 1000\n",
      "2021-01-02 1000\n",
      "2021-01-03 1000\n",
      "2021-01-04 1000\n",
      "2021-01-05 1000\n",
      "2021-01-06 1000\n",
      "2021-01-07 1000\n",
      "2021-01-08 1000\n",
      "2021-01-09 977\n",
      "2021-01-10 1000\n"
     ]
    }
   ],
   "source": [
    "#COUNTER - FOLLLOWER\n",
    "tweet_fol = []\n",
    "n = 0\n",
    "for ftem in date_list[n:]:\n",
    "    main_path = path_root +search_keyword+'/'+ftem+'/'\n",
    "    number_of_files = sum(f.endswith('.txt') for f in os.listdir(main_path))\n",
    "    print(str(ftem)+ ' '+str(number_of_files))\n",
    "    if number_of_files < 1 :\n",
    "        print('---------------: '+ str(n))\n",
    "    for ntem in range(number_of_files):\n",
    "        path = main_path+str(ntem)+'.txt'\n",
    "        tweet_fol.append(read_js_file(path)['followers_count'])\n",
    "    n = n + 1\n",
    "    if n%100 ==0:\n",
    "        print(n)\n",
    "        print(n/len(date_list))"
   ]
  },
  {
   "cell_type": "code",
   "execution_count": 88,
   "metadata": {},
   "outputs": [],
   "source": [
    "daily_sent = []\n",
    "daily_dic = {}\n",
    "start = 0\n",
    "for item in ind_date[:len(ind_date)-1]:\n",
    "    end = item[1]\n",
    "    if start<end:\n",
    "        cound_fl = tweet_fol[start:end]\n",
    "        pos_val = 0\n",
    "        neg_val = 0\n",
    "        m = 0\n",
    "        for Jtem in siminarity_all_ant[start:end]:\n",
    "            if Jtem =='pos':\n",
    "                pos_val = pos_val + cound_fl[m]\n",
    "            elif Jtem =='neg':\n",
    "                neg_val = neg_val + cound_fl[m]\n",
    "            m = m + 1\n",
    "        daily_sent.append(pos_val/(pos_val+neg_val))\n",
    "        start = end\n",
    "        daily_dic[item[0]] = daily_sent[-1]\n",
    "    else:\n",
    "        daily_sent.append(-1)\n",
    "    "
   ]
  },
  {
   "cell_type": "code",
   "execution_count": 151,
   "metadata": {},
   "outputs": [],
   "source": [
    "daily_sent_mental_health = []\n",
    "daily_dic_mental_health = {}\n",
    "start = 0\n",
    "for item in ind_date[:len(ind_date)-1]:\n",
    "    end = item[1]\n",
    "    if start<end:\n",
    "        cound_fl = tweet_fol[start:end]\n",
    "        pos_val = 0\n",
    "        neg_val = 0\n",
    "        m = 0\n",
    "        for Jtem in siminarity_all_mental_health[start:end]:\n",
    "            if Jtem =='relax':\n",
    "                pos_val = pos_val + cound_fl[m]\n",
    "            elif Jtem =='stressful':\n",
    "                neg_val = neg_val + cound_fl[m]\n",
    "            m = m + 1\n",
    "        stress_val = pos_val/(pos_val+neg_val)\n",
    "        daily_sent_mental_health.append(stress_val)\n",
    "        start = end\n",
    "        daily_dic_mental_health[item[0]] = daily_sent_mental_health[-1]"
   ]
  },
  {
   "cell_type": "code",
   "execution_count": 89,
   "metadata": {},
   "outputs": [],
   "source": [
    "import matplotlib.pyplot as plt"
   ]
  },
  {
   "cell_type": "code",
   "execution_count": 90,
   "metadata": {},
   "outputs": [
    {
     "data": {
      "text/plain": [
       "{'2020-01-10': 0.9246476729895913,\n",
       " '2020-01-11': 0.8842547222678346,\n",
       " '2020-01-12': 0.8830594546091772,\n",
       " '2020-01-13': 0.9594686598516622,\n",
       " '2020-01-14': 0.9603898186941979,\n",
       " '2020-01-15': 0.9867131839355227,\n",
       " '2020-01-16': 0.9858945452004582,\n",
       " '2020-01-17': 0.9795810506616826,\n",
       " '2020-01-18': 0.9769253802763272,\n",
       " '2020-01-19': 0.9706828985267587,\n",
       " '2020-01-20': 0.9695873938883295,\n",
       " '2020-01-21': 0.975161636406598,\n",
       " '2020-01-22': 0.9794338993104471,\n",
       " '2020-01-23': 0.9883556138968074,\n",
       " '2020-01-24': 0.9791964034600924,\n",
       " '2020-01-25': 0.9791595817355879,\n",
       " '2020-01-26': 0.9851606573744579,\n",
       " '2020-01-27': 0.9839604045499023,\n",
       " '2020-01-28': 0.9900776325165611,\n",
       " '2020-01-29': 0.9913523598034661,\n",
       " '2020-01-30': 0.9914718636608896,\n",
       " '2020-01-31': 0.9502417522836926,\n",
       " '2020-02-01': 0.9545331977449506,\n",
       " '2020-02-02': 0.9518464752559749,\n",
       " '2020-02-03': 0.9525102626834258,\n",
       " '2020-02-04': 0.9159566256246207,\n",
       " '2020-02-05': 0.8532679294112248,\n",
       " '2020-02-06': 0.8536224012339921,\n",
       " '2020-02-07': 0.8372865378907468,\n",
       " '2020-02-08': 0.8413538136223876,\n",
       " '2020-02-09': 0.8261521957438933,\n",
       " '2020-02-10': 0.8251766555967727,\n",
       " '2020-02-11': 0.8791131757552024,\n",
       " '2020-02-12': 0.8748092987495137,\n",
       " '2020-02-13': 0.9386847953356684,\n",
       " '2020-02-14': 0.9917663490087035,\n",
       " '2020-02-15': 0.9913889041239614,\n",
       " '2020-02-16': 0.9856900387958419,\n",
       " '2020-02-17': 0.9845976861916028,\n",
       " '2020-02-18': 0.9843532224176164,\n",
       " '2020-02-19': 0.9919280759920704,\n",
       " '2020-02-20': 0.9846652120441536,\n",
       " '2020-02-21': 0.9845590141744445,\n",
       " '2020-02-22': 0.9824897641187281,\n",
       " '2020-02-23': 0.9824259045167929,\n",
       " '2020-02-24': 0.9545373926153617,\n",
       " '2020-02-25': 0.9545325146214234,\n",
       " '2020-02-26': 0.987430156447738,\n",
       " '2020-02-27': 0.9869668832342993,\n",
       " '2020-02-28': 0.9830494082008241,\n",
       " '2020-02-29': 0.9831526929824076,\n",
       " '2020-03-01': 0.9801892309142439,\n",
       " '2020-03-02': 0.9806567904530213,\n",
       " '2020-03-03': 0.9791830117011333,\n",
       " '2020-03-04': 0.9799100924074202,\n",
       " '2020-03-05': 0.9743283422606068,\n",
       " '2020-03-06': 0.9719732237907454,\n",
       " '2020-03-07': 0.9730016981101939,\n",
       " '2020-03-08': 0.9735940825516202,\n",
       " '2020-03-09': 0.953552725352339,\n",
       " '2020-03-10': 0.9546572032401202,\n",
       " '2020-03-11': 0.9529546913514817,\n",
       " '2020-03-12': 0.9578523180050916,\n",
       " '2020-03-13': 0.9823538662222013,\n",
       " '2020-03-14': 0.9806754241856647,\n",
       " '2020-03-15': 0.9806729421866353,\n",
       " '2020-03-16': 0.9806066467068816,\n",
       " '2020-03-17': 0.937092752833707,\n",
       " '2020-03-18': 0.9507234618817592,\n",
       " '2020-03-19': 0.9502600189050098,\n",
       " '2020-03-20': 0.9511861814353442,\n",
       " '2020-03-21': 0.9522761151365521,\n",
       " '2020-03-22': 0.9526414002807899,\n",
       " '2020-03-23': 0.9276518522453442,\n",
       " '2020-03-24': 0.9402937741126481,\n",
       " '2020-03-25': 0.9399337856683941,\n",
       " '2020-03-26': 0.9332357363269065,\n",
       " '2020-03-27': 0.9336789340331171,\n",
       " '2020-03-28': 0.9328399609639038,\n",
       " '2020-03-29': 0.8629707773272777,\n",
       " '2020-03-30': 0.8618742276780635,\n",
       " '2020-03-31': 0.8290941684356009,\n",
       " '2020-04-01': 0.8302981816729129,\n",
       " '2020-04-02': 0.9316744521060819,\n",
       " '2020-04-03': 0.9311025709936034,\n",
       " '2020-04-04': 0.9177033253455668,\n",
       " '2020-04-05': 0.9147569140073603,\n",
       " '2020-04-06': 0.9196742673918177,\n",
       " '2020-04-07': 0.9574165931132591,\n",
       " '2020-04-08': 0.9566456742850713,\n",
       " '2020-04-09': 0.9491610324993865,\n",
       " '2020-04-10': 0.9494493039071319,\n",
       " '2020-04-11': 0.9426727422905145,\n",
       " '2020-04-12': 0.9449320016534959,\n",
       " '2020-04-13': 0.9387321523978794,\n",
       " '2020-04-14': 0.706691193070259,\n",
       " '2020-04-15': 0.7189530653890516,\n",
       " '2020-04-16': 0.7206929884313225,\n",
       " '2020-04-17': 0.7374183137026689,\n",
       " '2020-04-18': 0.7032538342489524,\n",
       " '2020-04-19': 0.7123607136699653,\n",
       " '2020-04-20': 0.729816706301015,\n",
       " '2020-04-21': 0.7139271558407282,\n",
       " '2020-04-22': 0.7183977139681313,\n",
       " '2020-04-23': 0.7442722603867765,\n",
       " '2020-04-24': 0.7251058107194729,\n",
       " '2020-04-25': 0.7178386816825244,\n",
       " '2020-04-26': 0.7118194091110581,\n",
       " '2020-04-27': 0.7697277507140742,\n",
       " '2020-04-28': 0.781815371742941,\n",
       " '2020-04-29': 0.7815585068399618,\n",
       " '2020-04-30': 0.7975022101573237,\n",
       " '2020-05-01': 0.7971893742821898,\n",
       " '2020-05-02': 0.781776452451805,\n",
       " '2020-05-03': 0.7823776816275165,\n",
       " '2020-05-04': 0.8207296571915866,\n",
       " '2020-05-05': 0.8443898310202572,\n",
       " '2020-05-06': 0.8446559969976217,\n",
       " '2020-05-07': 0.8761423039002832,\n",
       " '2020-05-08': 0.8744672211230795,\n",
       " '2020-05-09': 0.8857500574133577,\n",
       " '2020-05-10': 0.8738454991235342,\n",
       " '2020-05-11': 0.894653645019349,\n",
       " '2020-05-12': 0.8890264271525379,\n",
       " '2020-05-13': 0.9642282013114715,\n",
       " '2020-05-14': 0.9651956772613025,\n",
       " '2020-05-15': 0.9806437951659283,\n",
       " '2020-05-16': 0.9806734002833348,\n",
       " '2020-05-17': 0.9804860690490612,\n",
       " '2020-05-18': 0.9773870535208729,\n",
       " '2020-05-19': 0.9773925242034082,\n",
       " '2020-05-20': 0.9765335719810886,\n",
       " '2020-05-21': 0.9762841077819441,\n",
       " '2020-05-22': 0.9733133302623225,\n",
       " '2020-05-23': 0.9728012209437836,\n",
       " '2020-05-24': 0.9722498310032727,\n",
       " '2020-05-25': 0.9868800065571571,\n",
       " '2020-05-26': 0.9865319497204832,\n",
       " '2020-05-27': 0.9867896356145724,\n",
       " '2020-05-28': 0.9864531732422285,\n",
       " '2020-05-29': 0.9874401261514768,\n",
       " '2020-05-30': 0.9878174137282763,\n",
       " '2020-05-31': 0.9882124185943947,\n",
       " '2020-06-01': 0.9908179312484723,\n",
       " '2020-06-02': 0.9908442727368992,\n",
       " '2020-06-03': 0.9915757076086582,\n",
       " '2020-06-04': 0.9916718178793399,\n",
       " '2020-06-05': 0.991588664801055,\n",
       " '2020-06-06': 0.9800119583323015,\n",
       " '2020-06-07': 0.9795719334244383,\n",
       " '2020-06-08': 0.9833610366254231,\n",
       " '2020-06-09': 0.9833756478367287,\n",
       " '2020-06-10': 0.9833644040424465,\n",
       " '2020-06-11': 0.9862541516198968,\n",
       " '2020-06-12': 0.986482034129237,\n",
       " '2020-06-13': 0.9860426940928689,\n",
       " '2020-06-14': 0.9860945693932504,\n",
       " '2020-06-15': 0.9867901212509932,\n",
       " '2020-06-16': 0.9869323208692173,\n",
       " '2020-06-17': 0.9869232416731328,\n",
       " '2020-06-18': 0.9873907156440315,\n",
       " '2020-06-19': 0.9863630164204775,\n",
       " '2020-06-20': 0.9777969973345341,\n",
       " '2020-06-21': 0.9792018062961765,\n",
       " '2020-06-22': 0.979176618080649,\n",
       " '2020-06-23': 0.9796340694964143,\n",
       " '2020-06-24': 0.9819490042134494,\n",
       " '2020-06-25': 0.9931749501434739,\n",
       " '2020-06-26': 0.9957204626769511,\n",
       " '2020-06-27': 0.9976377940672068,\n",
       " '2020-06-28': 0.9973989303576751,\n",
       " '2020-06-29': 0.9973282573768155,\n",
       " '2020-06-30': 0.9968961047185169,\n",
       " '2020-07-01': 0.9969352858126586,\n",
       " '2020-07-02': 0.9974157168746555,\n",
       " '2020-07-03': 0.9981824618793955,\n",
       " '2020-07-04': 0.997053927289022,\n",
       " '2020-07-05': 0.9967618110817692,\n",
       " '2020-07-06': 0.9964496517566189,\n",
       " '2020-07-07': 0.9948543468264283,\n",
       " '2020-07-08': 0.9948135803279033,\n",
       " '2020-07-09': 0.9948428453940826,\n",
       " '2020-07-10': 0.995641036327375,\n",
       " '2020-07-11': 0.9956348823819243,\n",
       " '2020-07-12': 0.995728770625244,\n",
       " '2020-07-13': 0.9941438385645271,\n",
       " '2020-07-14': 0.9941905373764116,\n",
       " '2020-07-15': 0.9516165876986065,\n",
       " '2020-07-16': 0.9540731956055414,\n",
       " '2020-07-17': 0.9542614164907642,\n",
       " '2020-07-18': 0.9490938496267975,\n",
       " '2020-07-19': 0.9378373374030659,\n",
       " '2020-07-20': 0.9445499258940524,\n",
       " '2020-07-21': 0.9447890569887271,\n",
       " '2020-07-22': 0.9448026127076288,\n",
       " '2020-07-23': 0.9476840046919703,\n",
       " '2020-07-24': 0.9489414838035528,\n",
       " '2020-07-25': 0.9479097645011794,\n",
       " '2020-07-26': 0.9508888640403824,\n",
       " '2020-07-27': 0.9495210949742328,\n",
       " '2020-07-28': 0.9401056569286106,\n",
       " '2020-07-29': 0.9617396875774119,\n",
       " '2020-07-30': 0.9411155669081305,\n",
       " '2020-07-31': 0.9921024335816004,\n",
       " '2020-08-01': 0.9920882022345286,\n",
       " '2020-08-02': 0.991958023186691,\n",
       " '2020-08-03': 0.992749695073112,\n",
       " '2020-08-04': 0.9929903723159256,\n",
       " '2020-08-05': 0.9964786881477052,\n",
       " '2020-08-06': 0.4500245455614019,\n",
       " '2020-08-07': 0.8503330200057908,\n",
       " '2020-08-08': 0.8429682972536997,\n",
       " '2020-08-09': 0.8319060124608193,\n",
       " '2020-08-10': 0.8385764174988322,\n",
       " '2020-08-11': 0.5308765106967746,\n",
       " '2020-08-12': 0.46060325849957706,\n",
       " '2020-08-13': 0.7882139506647536,\n",
       " '2020-08-14': 0.7976279941052693,\n",
       " '2020-08-15': 0.7986607189055892,\n",
       " '2020-08-16': 0.7867539280725699,\n",
       " '2020-08-17': 0.7849875594156214,\n",
       " '2020-08-18': 0.9609609019891466,\n",
       " '2020-08-19': 0.9273910969126503,\n",
       " '2020-08-20': 0.893492428887839,\n",
       " '2020-08-21': 0.9887817378527334,\n",
       " '2020-08-22': 0.9451119931310684,\n",
       " '2020-08-23': 0.9445672466402925,\n",
       " '2020-08-24': 0.9252175905940934,\n",
       " '2020-08-25': 0.9171756956828606,\n",
       " '2020-08-26': 0.9255538640201396,\n",
       " '2020-08-27': 0.9220063368021313,\n",
       " '2020-08-28': 0.9069860014121508,\n",
       " '2020-08-29': 0.952380786657306,\n",
       " '2020-08-30': 0.9349422788157329,\n",
       " '2020-08-31': 0.9588128926032821,\n",
       " '2020-09-01': 0.9385068310098181,\n",
       " '2020-09-02': 0.9432843226634836,\n",
       " '2020-09-03': 0.9685298536842416,\n",
       " '2020-09-04': 0.9800956498476303,\n",
       " '2020-09-05': 0.9791937354798985,\n",
       " '2020-09-06': 0.9790254533171807,\n",
       " '2020-09-07': 0.9723425968228465,\n",
       " '2020-09-08': 0.9714589133948238,\n",
       " '2020-09-09': 0.9700460845713305,\n",
       " '2020-09-10': 0.9640912947973265,\n",
       " '2020-09-11': 0.9708935052007883,\n",
       " '2020-09-12': 0.9671321381666296,\n",
       " '2020-09-13': 0.966655150376823,\n",
       " '2020-09-14': 0.9731467250841036,\n",
       " '2020-09-15': 0.974919022248969,\n",
       " '2020-09-16': 0.9658687967499234,\n",
       " '2020-09-17': 0.9707745481711298,\n",
       " '2020-09-18': 0.9708512306757797,\n",
       " '2020-09-19': 0.9847260458768706,\n",
       " '2020-09-20': 0.9848064763967469,\n",
       " '2020-09-21': 0.9913137597482307,\n",
       " '2020-09-22': 0.989030560916902,\n",
       " '2020-09-23': 0.9901584017755141,\n",
       " '2020-09-24': 0.9852617792263539,\n",
       " '2020-09-25': 0.9719542149981053,\n",
       " '2020-09-26': 0.9852583448247112,\n",
       " '2020-09-27': 0.9884065985959318,\n",
       " '2020-09-28': 0.9814575395200243,\n",
       " '2020-09-29': 0.9967002168634769,\n",
       " '2020-09-30': 0.9725040168815798,\n",
       " '2020-10-01': 1.0,\n",
       " '2020-10-02': 1.0,\n",
       " '2020-10-04': 0.9933584618613889,\n",
       " '2020-10-05': 1.0,\n",
       " '2020-10-07': 0.9917485265225933,\n",
       " '2020-10-08': 0.9903955901226487,\n",
       " '2020-10-09': 0.9854777325232023,\n",
       " '2020-10-10': 0.9733054038430465,\n",
       " '2020-10-12': 0.9526541698254187,\n",
       " '2020-10-13': 0.9664204367465314,\n",
       " '2020-10-14': 0.5853323597048598,\n",
       " '2020-10-15': 0.9672955906315416,\n",
       " '2020-10-16': 0.9558552712035828,\n",
       " '2020-10-18': 0.9176825702768439,\n",
       " '2020-10-19': 0.9611136915384341,\n",
       " '2020-10-20': 0.9653293813478097,\n",
       " '2020-10-21': 1.0,\n",
       " '2020-10-22': 0.9985087091386304,\n",
       " '2020-10-23': 0.967812506053794,\n",
       " '2020-10-24': 0.9670839519307773,\n",
       " '2020-10-25': 0.9638390368433267,\n",
       " '2020-10-26': 0.9668140031636038,\n",
       " '2020-10-27': 0.9387620773156055,\n",
       " '2020-10-28': 0.9643132908842899,\n",
       " '2020-10-29': 0.9652924171034297,\n",
       " '2020-10-30': 0.9642276313508472,\n",
       " '2020-10-31': 0.9501304032992233,\n",
       " '2020-11-01': 0.9515602576018648,\n",
       " '2020-11-02': 0.9815969537879714,\n",
       " '2020-11-03': 0.9820387551519427,\n",
       " '2020-11-04': 0.9828200578242932,\n",
       " '2020-11-05': 0.9814740779535162,\n",
       " '2020-11-06': 0.9815049714157761,\n",
       " '2020-11-07': 0.9776343821382699,\n",
       " '2020-11-08': 0.9788512381094745,\n",
       " '2020-11-09': 0.9816024623295055,\n",
       " '2020-11-10': 0.9816574840601561,\n",
       " '2020-11-11': 0.9776284197516645,\n",
       " '2020-11-12': 0.9766414479184083,\n",
       " '2020-11-13': 0.9837291225713353,\n",
       " '2020-11-14': 0.9840032124511394,\n",
       " '2020-11-15': 0.9610728597484194,\n",
       " '2020-11-16': 0.9541296373585889,\n",
       " '2020-11-17': 0.9545802728754794,\n",
       " '2020-11-18': 0.9281579696918615,\n",
       " '2020-11-19': 0.941234239588315,\n",
       " '2020-11-20': 0.9453164689803872,\n",
       " '2020-11-21': 0.9482276930279739,\n",
       " '2020-11-22': 0.9415365048052277,\n",
       " '2020-11-23': 0.9425073488023016,\n",
       " '2020-11-24': 0.9572828552127473,\n",
       " '2020-11-25': 0.9593480983864202,\n",
       " '2020-11-26': 0.9838894343875814,\n",
       " '2020-11-27': 0.977902316044934,\n",
       " '2020-11-28': 0.980978164997756,\n",
       " '2020-11-29': 0.9811320538096823,\n",
       " '2020-11-30': 0.9842773562199874,\n",
       " '2020-12-01': 0.966997249642222,\n",
       " '2020-12-02': 0.9663656346267927,\n",
       " '2020-12-03': 0.9653845960631318,\n",
       " '2020-12-04': 0.9689889451192819,\n",
       " '2020-12-05': 0.9679838560077311,\n",
       " '2020-12-06': 0.9615092887765198,\n",
       " '2020-12-07': 0.9624795710730942,\n",
       " '2020-12-08': 0.9662677355204995,\n",
       " '2020-12-09': 0.9665012970927923,\n",
       " '2020-12-10': 0.8938928335030212,\n",
       " '2020-12-11': 0.8742521518519633,\n",
       " '2020-12-12': 0.8837356139723631,\n",
       " '2020-12-13': 0.8843439799046083,\n",
       " '2020-12-14': 0.8816013213548549,\n",
       " '2020-12-15': 0.8838533980434816,\n",
       " '2020-12-16': 0.8814254423524615,\n",
       " '2020-12-17': 0.8896216301614925,\n",
       " '2020-12-18': 0.88876838783782,\n",
       " '2020-12-19': 0.8826791821185841,\n",
       " '2020-12-20': 0.8800725330590916,\n",
       " '2020-12-21': 0.889415540197629,\n",
       " '2020-12-22': 0.9315703296878296,\n",
       " '2020-12-23': 0.9281734464061675,\n",
       " '2020-12-24': 0.9725921684001262,\n",
       " '2020-12-25': 0.9733014772873565,\n",
       " '2020-12-26': 0.9698395998851203,\n",
       " '2020-12-27': 0.97146677839202,\n",
       " '2020-12-28': 0.977710139025058,\n",
       " '2020-12-29': 0.9771301429419514,\n",
       " '2020-12-30': 0.9722168367479812,\n",
       " '2020-12-31': 0.9719276306639832,\n",
       " '2021-01-01': 0.9719207535395218,\n",
       " '2021-01-02': 0.9719760215200042,\n",
       " '2021-01-03': 0.9717006541282587,\n",
       " '2021-01-04': 0.9743131250034467,\n",
       " '2021-01-05': 0.9840105443815633,\n",
       " '2021-01-06': 0.9841478060759664,\n",
       " '2021-01-07': 0.9807247343641485,\n",
       " '2021-01-08': 0.9803622526987942,\n",
       " '2021-01-09': 0.9728126860273328}"
      ]
     },
     "execution_count": 90,
     "metadata": {},
     "output_type": "execute_result"
    }
   ],
   "source": [
    "daily_dic"
   ]
  },
  {
   "cell_type": "code",
   "execution_count": 77,
   "metadata": {},
   "outputs": [],
   "source": [
    "import seaborn as sns"
   ]
  },
  {
   "cell_type": "code",
   "execution_count": 99,
   "metadata": {
    "scrolled": true
   },
   "outputs": [
    {
     "data": {
      "image/png": "[encoded data removed]",
      "text/plain": [
       "<Figure size 432x288 with 1 Axes>"
      ]
     },
     "metadata": {},
     "output_type": "display_data"
    }
   ],
   "source": [
    "g = sns.barplot(list(daily_dic.keys()), list(daily_dic.values()))"
   ]
  },
  {
   "cell_type": "code",
   "execution_count": 153,
   "metadata": {},
   "outputs": [
    {
     "data": {
      "image/png": "[encoded data removed]",
      "text/plain": [
       "<Figure size 432x288 with 1 Axes>"
      ]
     },
     "metadata": {},
     "output_type": "display_data"
    }
   ],
   "source": [
    "g = sns.barplot(list(daily_dic_mental_health.keys()), list(daily_dic_mental_health.values()))"
   ]
  },
  {
   "cell_type": "code",
   "execution_count": 155,
   "metadata": {},
   "outputs": [
    {
     "name": "stdout",
     "output_type": "stream",
     "text": [
      "(0.3704092826290931, 3.244227447952938e-13)\n",
      "[[1.         0.37040928]\n",
      " [0.37040928 1.        ]]\n"
     ]
    }
   ],
   "source": [
    "from scipy.stats.stats import pearsonr   \n",
    "print (pearsonr( list(daily_dic.values()),list(daily_dic_mental_health.values())))\n",
    "print (np.corrcoef( list(daily_dic.values()),list(daily_dic_mental_health.values())))"
   ]
  },
  {
   "cell_type": "code",
   "execution_count": null,
   "metadata": {},
   "outputs": [],
   "source": []
  },
  {
   "cell_type": "markdown",
   "metadata": {},
   "source": [
    "# read_gold_bar"
   ]
  },
  {
   "cell_type": "code",
   "execution_count": 157,
   "metadata": {},
   "outputs": [],
   "source": [
    "path = '/Users/arefeh/Desktop/tweet_api_new/bars-gold/'"
   ]
  },
  {
   "cell_type": "code",
   "execution_count": 158,
   "metadata": {},
   "outputs": [],
   "source": [
    "bars_list = ['bars',\n",
    "'bars2',\n",
    "'bars3',\n",
    "'bars4',\n",
    "'bars5',\n",
    "'bars6',\n",
    "'bars7',\n",
    "'bars8',\n",
    "'bars9',\n",
    "'bars10',\n",
    "'bars11',\n",
    "'bars12',\n",
    "'bars13',\n",
    "'bars14',\n",
    "'bars15',\n",
    "'bars16',\n",
    "'bars17',\n",
    "'bars18']"
   ]
  },
  {
   "cell_type": "code",
   "execution_count": 162,
   "metadata": {},
   "outputs": [],
   "source": [
    "import json\n",
    "data_gold = []\n",
    "for btem in bars_list:\n",
    "    with open(path+btem) as json_file:\n",
    "        data_gold = data_gold + (json.load(json_file))"
   ]
  },
  {
   "cell_type": "code",
   "execution_count": 200,
   "metadata": {},
   "outputs": [],
   "source": [
    "gold_price = {}\n",
    "for item in data_gold:\n",
    "    time_gold = item['time']/1000\n",
    "    gold_price[datetime.utcfromtimestamp(time_gold).strftime('%Y-%m-%d')] = item['close']"
   ]
  },
  {
   "cell_type": "code",
   "execution_count": 221,
   "metadata": {},
   "outputs": [],
   "source": [
    "gold_val = {}\n",
    "before = -1\n",
    "for item in list(daily_dic.keys()):\n",
    "    if item in list(gold_price.keys()):\n",
    "        gold_val[item] = gold_price[item]\n",
    "        before = gold_val[item]\n",
    "    else:\n",
    "        gold_val[item] = before\n",
    "        #print(before)"
   ]
  },
  {
   "cell_type": "code",
   "execution_count": 222,
   "metadata": {},
   "outputs": [
    {
     "data": {
      "image/png": "[encoded data removed]",
      "text/plain": [
       "<Figure size 432x288 with 1 Axes>"
      ]
     },
     "metadata": {},
     "output_type": "display_data"
    }
   ],
   "source": [
    "g = sns.barplot(list(gold_val.keys()), list(gold_val.values()))"
   ]
  },
  {
   "cell_type": "code",
   "execution_count": 215,
   "metadata": {},
   "outputs": [],
   "source": [
    "gold_val['2020-01-10'] = gold_val['2020-01-11']\n",
    "del gold_val['2021-01-10']"
   ]
  },
  {
   "cell_type": "code",
   "execution_count": 223,
   "metadata": {},
   "outputs": [
    {
     "data": {
      "text/plain": [
       "362"
      ]
     },
     "execution_count": 223,
     "metadata": {},
     "output_type": "execute_result"
    }
   ],
   "source": [
    "len(gold_val)"
   ]
  },
  {
   "cell_type": "code",
   "execution_count": 224,
   "metadata": {},
   "outputs": [
    {
     "data": {
      "text/plain": [
       "362"
      ]
     },
     "execution_count": 224,
     "metadata": {},
     "output_type": "execute_result"
    }
   ],
   "source": [
    "len(daily_dic)"
   ]
  },
  {
   "cell_type": "code",
   "execution_count": 240,
   "metadata": {},
   "outputs": [],
   "source": [
    "daily_dict_ind = (np.argmin(list(daily_dic.values())[10:150]))\n",
    "mental_health_min_ind = (np.argmin(list(daily_dic_mental_health.values())[10:150]))"
   ]
  },
  {
   "cell_type": "code",
   "execution_count": 246,
   "metadata": {},
   "outputs": [
    {
     "name": "stdout",
     "output_type": "stream",
     "text": [
      "2020-04-08\n",
      "2020-02-24\n"
     ]
    }
   ],
   "source": [
    "print(list(daily_dic.keys())[daily_dict_ind])\n",
    "print(list(daily_dic_mental_health.keys())[mental_health_min_ind])"
   ]
  },
  {
   "cell_type": "code",
   "execution_count": 225,
   "metadata": {},
   "outputs": [
    {
     "name": "stdout",
     "output_type": "stream",
     "text": [
      "(0.13801371808106397, 0.008553503037028726)\n",
      "[[1.         0.13801372]\n",
      " [0.13801372 1.        ]]\n"
     ]
    }
   ],
   "source": [
    "print (pearsonr( list(daily_dic.values()),list(gold_val.values())))\n",
    "print (np.corrcoef( list(daily_dic.values()),list(gold_val.values())))"
   ]
  },
  {
   "cell_type": "code",
   "execution_count": 226,
   "metadata": {},
   "outputs": [],
   "source": [
    "data_diag = np.array(list(daily_dic.values()))"
   ]
  },
  {
   "cell_type": "code",
   "execution_count": 228,
   "metadata": {},
   "outputs": [],
   "source": [
    "import numpy as np\n",
    "from scipy.signal import argrelextrema\n",
    "\n",
    "# for local maxima\n",
    "local_max = argrelextrema(data_diag, np.greater)\n",
    "\n",
    "# for local minima\n",
    "local_min = argrelextrema(data_diag, np.less)"
   ]
  },
  {
   "cell_type": "code",
   "execution_count": 232,
   "metadata": {},
   "outputs": [
    {
     "data": {
      "text/plain": [
       "95"
      ]
     },
     "execution_count": 232,
     "metadata": {},
     "output_type": "execute_result"
    }
   ],
   "source": [
    "len(local_min[0])"
   ]
  },
  {
   "cell_type": "code",
   "execution_count": 229,
   "metadata": {},
   "outputs": [
    {
     "data": {
      "text/plain": [
       "(array([  2,  10,  15,  17,  21,  23,  26,  28,  31,  33,  39,  46,  49,\n",
       "         51,  53,  56,  59,  61,  67,  69,  73,  76,  81,  86,  90,  92,\n",
       "         95,  99, 102, 107, 110, 113, 119, 121, 123, 129, 135, 137, 139,\n",
       "        149, 152, 155, 159, 162, 164, 172, 180, 183, 185, 187, 191, 197,\n",
       "        200, 202, 205, 209, 212, 215, 220, 223, 228, 231, 233, 235, 244,\n",
       "        247, 250, 256, 259, 262, 264, 267, 273, 275, 278, 285, 287, 291,\n",
       "        296, 298, 303, 307, 309, 313, 318, 324, 327, 332, 335, 337, 341,\n",
       "        344, 347, 353, 355]),)"
      ]
     },
     "execution_count": 229,
     "metadata": {},
     "output_type": "execute_result"
    }
   ],
   "source": [
    "local_min"
   ]
  },
  {
   "cell_type": "code",
   "execution_count": 233,
   "metadata": {},
   "outputs": [
    {
     "data": {
      "text/plain": [
       "94"
      ]
     },
     "execution_count": 233,
     "metadata": {},
     "output_type": "execute_result"
    }
   ],
   "source": [
    "len(local_max[0])"
   ]
  },
  {
   "cell_type": "code",
   "execution_count": 230,
   "metadata": {},
   "outputs": [
    {
     "data": {
      "text/plain": [
       "(array([  5,  13,  16,  20,  22,  24,  27,  29,  32,  35,  40,  47,  50,\n",
       "         52,  54,  58,  60,  63,  68,  72,  74,  77,  83,  88,  91,  93,\n",
       "         98, 101, 104, 109, 111, 118, 120, 122, 127, 130, 136, 138, 146,\n",
       "        151, 154, 158, 160, 163, 169, 175, 182, 184, 186, 189, 196, 198,\n",
       "        201, 203, 208, 210, 213, 218, 221, 224, 229, 232, 234, 238, 245,\n",
       "        249, 255, 257, 261, 263, 268, 274, 276, 281, 286, 289, 295, 297,\n",
       "        301, 305, 308, 312, 317, 321, 325, 330, 334, 336, 338, 343, 346,\n",
       "        349, 354, 358]),)"
      ]
     },
     "execution_count": 230,
     "metadata": {},
     "output_type": "execute_result"
    }
   ],
   "source": [
    "local_max"
   ]
  },
  {
   "cell_type": "code",
   "execution_count": 48,
   "metadata": {},
   "outputs": [
    {
     "data": {
      "text/plain": [
       "109578"
      ]
     },
     "execution_count": 48,
     "metadata": {},
     "output_type": "execute_result"
    }
   ],
   "source": [
    "from sklearn.linear_model import LinearRegression"
   ]
  },
  {
   "cell_type": "code",
   "execution_count": null,
   "metadata": {},
   "outputs": [],
   "source": [
    "#vector similarity\n",
    "siminarity_all_ant = []\n",
    "n = 0\n",
    "#vectors_covid\n",
    "start = time.time()\n",
    "for item in vectors[0]:\n",
    "    \n",
    "    if n%100==0:\n",
    "        print(n/len(vectors[0]))\n",
    "        end = time.time()\n",
    "        print('time')\n",
    "        print(end - start)\n",
    "        start = time.time()\n",
    "    n = n + 1\n",
    "    siminarity_item_ant = []\n",
    "    \n",
    "    #vectors_anti\n",
    "    for Jtem in vectors[3]:\n",
    "        siminarity_item_ant.append(cosine_sim(item, Jtem))\n",
    "        \n",
    "    siminarity_item_ant = np.array(siminarity_item_ant)\n",
    "    sorted_ind = list(np.argsort(siminarity_item_ant)[:100])\n",
    "    sorted_val = siminarity_item_ant[sorted_ind]\n",
    "        \n",
    "    siminarity_all_ant.append([sorted_ind,sorted_val])"
   ]
  },
  {
   "cell_type": "markdown",
   "metadata": {},
   "source": [
    "## vector similarity\n",
    "similarity_all = []\n",
    "n = 0\n",
    "#vectors_covid\n",
    "for item in vectors[0]:\n",
    "    \n",
    "    if n%10==0:\n",
    "        print(n/len(vectors[0]))\n",
    "    n = n + 1\n",
    "    siminarity_item_vac = []\n",
    "    siminarity_item_ant = []\n",
    "    siminarity_item_fak = []\n",
    "    \n",
    "    #vectors_anti\n",
    "    for Jtem in vectors[3]:\n",
    "        siminarity_item_ant.append(cosine_sim(item[0], Jtem[0]))\n",
    "        \n",
    "    #    vectors_vac\n",
    "    for Jtem in vectors[2]:\n",
    "        siminarity_item_vac.append(cosine_sim(item[0], Jtem[0]))\n",
    "    #    vectors_fak\n",
    "    for Jtem in vectors[1]:\n",
    "        siminarity_item_fak.append(cosine_sim(item[0], Jtem[0]))\n",
    "        \n",
    "    similarity_all.append([siminarity_item_vac, siminarity_item_ant, siminarity_item_fak])"
   ]
  },
  {
   "cell_type": "code",
   "execution_count": null,
   "metadata": {},
   "outputs": [],
   "source": [
    "#save similarity file"
   ]
  },
  {
   "cell_type": "code",
   "execution_count": null,
   "metadata": {},
   "outputs": [],
   "source": [
    "with open('/Users/arefeh/Desktop/tweet_api/'+'similarity'+'/'+str('#Covid')+'.txt', 'w') as f:\n",
    "    n = 0\n",
    "    print(n)\n",
    "    for item in similarity_all:\n",
    "        f.write(str(item)+'\\n')\n",
    "\n",
    "        if n%1000 == 0:\n",
    "            print(n/len(similarity_all))\n",
    "        n = n + 1"
   ]
  },
  {
   "cell_type": "code",
   "execution_count": 86,
   "metadata": {},
   "outputs": [
    {
     "name": "stdout",
     "output_type": "stream",
     "text": [
      "1\n"
     ]
    },
    {
     "ename": "KeyboardInterrupt",
     "evalue": "",
     "output_type": "error",
     "traceback": [
      "\u001b[0;31m---------------------------------------------------------------------------\u001b[0m",
      "\u001b[0;31mKeyboardInterrupt\u001b[0m                         Traceback (most recent call last)",
      "\u001b[0;32m<ipython-input-86-c361a5f91488>\u001b[0m in \u001b[0;36m<module>\u001b[0;34m\u001b[0m\n\u001b[1;32m      1\u001b[0m \u001b[0;32mfor\u001b[0m \u001b[0mi\u001b[0m \u001b[0;32min\u001b[0m \u001b[0mrange\u001b[0m\u001b[0;34m(\u001b[0m\u001b[0;36m1\u001b[0m\u001b[0;34m,\u001b[0m\u001b[0;36m2\u001b[0m\u001b[0;34m)\u001b[0m\u001b[0;34m:\u001b[0m\u001b[0;34m\u001b[0m\u001b[0;34m\u001b[0m\u001b[0m\n\u001b[1;32m      2\u001b[0m     \u001b[0mprint\u001b[0m\u001b[0;34m(\u001b[0m\u001b[0mi\u001b[0m\u001b[0;34m)\u001b[0m\u001b[0;34m\u001b[0m\u001b[0;34m\u001b[0m\u001b[0m\n\u001b[0;32m----> 3\u001b[0;31m     \u001b[0mnp\u001b[0m\u001b[0;34m.\u001b[0m\u001b[0msavetxt\u001b[0m\u001b[0;34m(\u001b[0m\u001b[0;34m'/Users/arefeh/Desktop/tweet_api/'\u001b[0m\u001b[0;34m+\u001b[0m\u001b[0;34m'wv_vectors'\u001b[0m\u001b[0;34m+\u001b[0m\u001b[0;34m'/'\u001b[0m\u001b[0;34m+\u001b[0m\u001b[0mstr\u001b[0m\u001b[0;34m(\u001b[0m\u001b[0msearch_words\u001b[0m\u001b[0;34m[\u001b[0m\u001b[0mi\u001b[0m\u001b[0;34m]\u001b[0m\u001b[0;34m)\u001b[0m\u001b[0;34m+\u001b[0m\u001b[0;34m'.txt'\u001b[0m\u001b[0;34m,\u001b[0m \u001b[0mnp\u001b[0m\u001b[0;34m.\u001b[0m\u001b[0marray\u001b[0m\u001b[0;34m(\u001b[0m\u001b[0mvectors\u001b[0m\u001b[0;34m[\u001b[0m\u001b[0mi\u001b[0m\u001b[0;34m]\u001b[0m\u001b[0;34m)\u001b[0m\u001b[0;34m,\u001b[0m \u001b[0mdelimiter\u001b[0m\u001b[0;34m=\u001b[0m\u001b[0;34m\",\"\u001b[0m\u001b[0;34m,\u001b[0m\u001b[0mfmt\u001b[0m\u001b[0;34m=\u001b[0m\u001b[0;34m'%s'\u001b[0m\u001b[0;34m)\u001b[0m\u001b[0;34m\u001b[0m\u001b[0;34m\u001b[0m\u001b[0m\n\u001b[0m",
      "\u001b[0;32m<__array_function__ internals>\u001b[0m in \u001b[0;36msavetxt\u001b[0;34m(*args, **kwargs)\u001b[0m\n",
      "\u001b[0;32m~/anaconda3/lib/python3.6/site-packages/numpy/lib/npyio.py\u001b[0m in \u001b[0;36msavetxt\u001b[0;34m(fname, X, fmt, delimiter, newline, header, footer, comments, encoding)\u001b[0m\n\u001b[1;32m   1445\u001b[0m             \u001b[0;32mfor\u001b[0m \u001b[0mrow\u001b[0m \u001b[0;32min\u001b[0m \u001b[0mX\u001b[0m\u001b[0;34m:\u001b[0m\u001b[0;34m\u001b[0m\u001b[0;34m\u001b[0m\u001b[0m\n\u001b[1;32m   1446\u001b[0m                 \u001b[0;32mtry\u001b[0m\u001b[0;34m:\u001b[0m\u001b[0;34m\u001b[0m\u001b[0;34m\u001b[0m\u001b[0m\n\u001b[0;32m-> 1447\u001b[0;31m                     \u001b[0mv\u001b[0m \u001b[0;34m=\u001b[0m \u001b[0mformat\u001b[0m \u001b[0;34m%\u001b[0m \u001b[0mtuple\u001b[0m\u001b[0;34m(\u001b[0m\u001b[0mrow\u001b[0m\u001b[0;34m)\u001b[0m \u001b[0;34m+\u001b[0m \u001b[0mnewline\u001b[0m\u001b[0;34m\u001b[0m\u001b[0;34m\u001b[0m\u001b[0m\n\u001b[0m\u001b[1;32m   1448\u001b[0m                 \u001b[0;32mexcept\u001b[0m \u001b[0mTypeError\u001b[0m\u001b[0;34m:\u001b[0m\u001b[0;34m\u001b[0m\u001b[0;34m\u001b[0m\u001b[0m\n\u001b[1;32m   1449\u001b[0m                     raise TypeError(\"Mismatch between array dtype ('%s') and \"\n",
      "\u001b[0;32m~/anaconda3/lib/python3.6/site-packages/numpy/core/arrayprint.py\u001b[0m in \u001b[0;36m_array_repr_implementation\u001b[0;34m(arr, max_line_width, precision, suppress_small, array2string)\u001b[0m\n\u001b[1;32m   1401\u001b[0m     \u001b[0;32melif\u001b[0m \u001b[0marr\u001b[0m\u001b[0;34m.\u001b[0m\u001b[0msize\u001b[0m \u001b[0;34m>\u001b[0m \u001b[0;36m0\u001b[0m \u001b[0;32mor\u001b[0m \u001b[0marr\u001b[0m\u001b[0;34m.\u001b[0m\u001b[0mshape\u001b[0m \u001b[0;34m==\u001b[0m \u001b[0;34m(\u001b[0m\u001b[0;36m0\u001b[0m\u001b[0;34m,\u001b[0m\u001b[0;34m)\u001b[0m\u001b[0;34m:\u001b[0m\u001b[0;34m\u001b[0m\u001b[0;34m\u001b[0m\u001b[0m\n\u001b[1;32m   1402\u001b[0m         lst = array2string(arr, max_line_width, precision, suppress_small,\n\u001b[0;32m-> 1403\u001b[0;31m                            ', ', prefix, suffix=suffix)\n\u001b[0m\u001b[1;32m   1404\u001b[0m     \u001b[0;32melse\u001b[0m\u001b[0;34m:\u001b[0m  \u001b[0;31m# show zero-length shape unless it is (0,)\u001b[0m\u001b[0;34m\u001b[0m\u001b[0;34m\u001b[0m\u001b[0m\n\u001b[1;32m   1405\u001b[0m         \u001b[0mlst\u001b[0m \u001b[0;34m=\u001b[0m \u001b[0;34m\"[], shape=%s\"\u001b[0m \u001b[0;34m%\u001b[0m \u001b[0;34m(\u001b[0m\u001b[0mrepr\u001b[0m\u001b[0;34m(\u001b[0m\u001b[0marr\u001b[0m\u001b[0;34m.\u001b[0m\u001b[0mshape\u001b[0m\u001b[0;34m)\u001b[0m\u001b[0;34m,\u001b[0m\u001b[0;34m)\u001b[0m\u001b[0;34m\u001b[0m\u001b[0;34m\u001b[0m\u001b[0m\n",
      "\u001b[0;32m~/anaconda3/lib/python3.6/site-packages/numpy/core/arrayprint.py\u001b[0m in \u001b[0;36marray2string\u001b[0;34m(a, max_line_width, precision, suppress_small, separator, prefix, style, formatter, threshold, edgeitems, sign, floatmode, suffix, **kwarg)\u001b[0m\n\u001b[1;32m    710\u001b[0m         \u001b[0;32mreturn\u001b[0m \u001b[0;34m\"[]\"\u001b[0m\u001b[0;34m\u001b[0m\u001b[0;34m\u001b[0m\u001b[0m\n\u001b[1;32m    711\u001b[0m \u001b[0;34m\u001b[0m\u001b[0m\n\u001b[0;32m--> 712\u001b[0;31m     \u001b[0;32mreturn\u001b[0m \u001b[0m_array2string\u001b[0m\u001b[0;34m(\u001b[0m\u001b[0ma\u001b[0m\u001b[0;34m,\u001b[0m \u001b[0moptions\u001b[0m\u001b[0;34m,\u001b[0m \u001b[0mseparator\u001b[0m\u001b[0;34m,\u001b[0m \u001b[0mprefix\u001b[0m\u001b[0;34m)\u001b[0m\u001b[0;34m\u001b[0m\u001b[0;34m\u001b[0m\u001b[0m\n\u001b[0m\u001b[1;32m    713\u001b[0m \u001b[0;34m\u001b[0m\u001b[0m\n\u001b[1;32m    714\u001b[0m \u001b[0;34m\u001b[0m\u001b[0m\n",
      "\u001b[0;32m~/anaconda3/lib/python3.6/site-packages/numpy/core/arrayprint.py\u001b[0m in \u001b[0;36mwrapper\u001b[0;34m(self, *args, **kwargs)\u001b[0m\n\u001b[1;32m    482\u001b[0m             \u001b[0mrepr_running\u001b[0m\u001b[0;34m.\u001b[0m\u001b[0madd\u001b[0m\u001b[0;34m(\u001b[0m\u001b[0mkey\u001b[0m\u001b[0;34m)\u001b[0m\u001b[0;34m\u001b[0m\u001b[0;34m\u001b[0m\u001b[0m\n\u001b[1;32m    483\u001b[0m             \u001b[0;32mtry\u001b[0m\u001b[0;34m:\u001b[0m\u001b[0;34m\u001b[0m\u001b[0;34m\u001b[0m\u001b[0m\n\u001b[0;32m--> 484\u001b[0;31m                 \u001b[0;32mreturn\u001b[0m \u001b[0mf\u001b[0m\u001b[0;34m(\u001b[0m\u001b[0mself\u001b[0m\u001b[0;34m,\u001b[0m \u001b[0;34m*\u001b[0m\u001b[0margs\u001b[0m\u001b[0;34m,\u001b[0m \u001b[0;34m**\u001b[0m\u001b[0mkwargs\u001b[0m\u001b[0;34m)\u001b[0m\u001b[0;34m\u001b[0m\u001b[0;34m\u001b[0m\u001b[0m\n\u001b[0m\u001b[1;32m    485\u001b[0m             \u001b[0;32mfinally\u001b[0m\u001b[0;34m:\u001b[0m\u001b[0;34m\u001b[0m\u001b[0;34m\u001b[0m\u001b[0m\n\u001b[1;32m    486\u001b[0m                 \u001b[0mrepr_running\u001b[0m\u001b[0;34m.\u001b[0m\u001b[0mdiscard\u001b[0m\u001b[0;34m(\u001b[0m\u001b[0mkey\u001b[0m\u001b[0;34m)\u001b[0m\u001b[0;34m\u001b[0m\u001b[0;34m\u001b[0m\u001b[0m\n",
      "\u001b[0;32m~/anaconda3/lib/python3.6/site-packages/numpy/core/arrayprint.py\u001b[0m in \u001b[0;36m_array2string\u001b[0;34m(a, options, separator, prefix)\u001b[0m\n\u001b[1;32m    517\u001b[0m     lst = _formatArray(a, format_function, options['linewidth'],\n\u001b[1;32m    518\u001b[0m                        \u001b[0mnext_line_prefix\u001b[0m\u001b[0;34m,\u001b[0m \u001b[0mseparator\u001b[0m\u001b[0;34m,\u001b[0m \u001b[0moptions\u001b[0m\u001b[0;34m[\u001b[0m\u001b[0;34m'edgeitems'\u001b[0m\u001b[0;34m]\u001b[0m\u001b[0;34m,\u001b[0m\u001b[0;34m\u001b[0m\u001b[0;34m\u001b[0m\u001b[0m\n\u001b[0;32m--> 519\u001b[0;31m                        summary_insert, options['legacy'])\n\u001b[0m\u001b[1;32m    520\u001b[0m     \u001b[0;32mreturn\u001b[0m \u001b[0mlst\u001b[0m\u001b[0;34m\u001b[0m\u001b[0;34m\u001b[0m\u001b[0m\n\u001b[1;32m    521\u001b[0m \u001b[0;34m\u001b[0m\u001b[0m\n",
      "\u001b[0;32m~/anaconda3/lib/python3.6/site-packages/numpy/core/arrayprint.py\u001b[0m in \u001b[0;36m_formatArray\u001b[0;34m(a, format_function, line_width, next_line_prefix, separator, edge_items, summary_insert, legacy)\u001b[0m\n\u001b[1;32m    838\u001b[0m         return recurser(index=(),\n\u001b[1;32m    839\u001b[0m                         \u001b[0mhanging_indent\u001b[0m\u001b[0;34m=\u001b[0m\u001b[0mnext_line_prefix\u001b[0m\u001b[0;34m,\u001b[0m\u001b[0;34m\u001b[0m\u001b[0;34m\u001b[0m\u001b[0m\n\u001b[0;32m--> 840\u001b[0;31m                         curr_width=line_width)\n\u001b[0m\u001b[1;32m    841\u001b[0m     \u001b[0;32mfinally\u001b[0m\u001b[0;34m:\u001b[0m\u001b[0;34m\u001b[0m\u001b[0;34m\u001b[0m\u001b[0m\n\u001b[1;32m    842\u001b[0m         \u001b[0;31m# recursive closures have a cyclic reference to themselves, which\u001b[0m\u001b[0;34m\u001b[0m\u001b[0;34m\u001b[0m\u001b[0;34m\u001b[0m\u001b[0m\n",
      "\u001b[0;32m~/anaconda3/lib/python3.6/site-packages/numpy/core/arrayprint.py\u001b[0m in \u001b[0;36mrecurser\u001b[0;34m(index, hanging_indent, curr_width)\u001b[0m\n\u001b[1;32m    792\u001b[0m \u001b[0;34m\u001b[0m\u001b[0m\n\u001b[1;32m    793\u001b[0m             \u001b[0;32mfor\u001b[0m \u001b[0mi\u001b[0m \u001b[0;32min\u001b[0m \u001b[0mrange\u001b[0m\u001b[0;34m(\u001b[0m\u001b[0mtrailing_items\u001b[0m\u001b[0;34m,\u001b[0m \u001b[0;36m1\u001b[0m\u001b[0;34m,\u001b[0m \u001b[0;34m-\u001b[0m\u001b[0;36m1\u001b[0m\u001b[0;34m)\u001b[0m\u001b[0;34m:\u001b[0m\u001b[0;34m\u001b[0m\u001b[0;34m\u001b[0m\u001b[0m\n\u001b[0;32m--> 794\u001b[0;31m                 \u001b[0mword\u001b[0m \u001b[0;34m=\u001b[0m \u001b[0mrecurser\u001b[0m\u001b[0;34m(\u001b[0m\u001b[0mindex\u001b[0m \u001b[0;34m+\u001b[0m \u001b[0;34m(\u001b[0m\u001b[0;34m-\u001b[0m\u001b[0mi\u001b[0m\u001b[0;34m,\u001b[0m\u001b[0;34m)\u001b[0m\u001b[0;34m,\u001b[0m \u001b[0mnext_hanging_indent\u001b[0m\u001b[0;34m,\u001b[0m \u001b[0mnext_width\u001b[0m\u001b[0;34m)\u001b[0m\u001b[0;34m\u001b[0m\u001b[0;34m\u001b[0m\u001b[0m\n\u001b[0m\u001b[1;32m    795\u001b[0m                 s, line = _extendLine(\n\u001b[1;32m    796\u001b[0m                     s, line, word, elem_width, hanging_indent, legacy)\n",
      "\u001b[0;32m~/anaconda3/lib/python3.6/site-packages/numpy/core/arrayprint.py\u001b[0m in \u001b[0;36mrecurser\u001b[0;34m(index, hanging_indent, curr_width)\u001b[0m\n\u001b[1;32m    746\u001b[0m \u001b[0;34m\u001b[0m\u001b[0m\n\u001b[1;32m    747\u001b[0m         \u001b[0;32mif\u001b[0m \u001b[0maxes_left\u001b[0m \u001b[0;34m==\u001b[0m \u001b[0;36m0\u001b[0m\u001b[0;34m:\u001b[0m\u001b[0;34m\u001b[0m\u001b[0;34m\u001b[0m\u001b[0m\n\u001b[0;32m--> 748\u001b[0;31m             \u001b[0;32mreturn\u001b[0m \u001b[0mformat_function\u001b[0m\u001b[0;34m(\u001b[0m\u001b[0ma\u001b[0m\u001b[0;34m[\u001b[0m\u001b[0mindex\u001b[0m\u001b[0;34m]\u001b[0m\u001b[0;34m)\u001b[0m\u001b[0;34m\u001b[0m\u001b[0;34m\u001b[0m\u001b[0m\n\u001b[0m\u001b[1;32m    749\u001b[0m \u001b[0;34m\u001b[0m\u001b[0m\n\u001b[1;32m    750\u001b[0m         \u001b[0;31m# when recursing, add a space to align with the [ added, and reduce the\u001b[0m\u001b[0;34m\u001b[0m\u001b[0;34m\u001b[0m\u001b[0;34m\u001b[0m\u001b[0m\n",
      "\u001b[0;31mKeyboardInterrupt\u001b[0m: "
     ]
    }
   ],
   "source": [
    "for i in range(1,2):\n",
    "    print(i)\n",
    "    np.savetxt('/Users/arefeh/Desktop/tweet_api/'+'wv_vectors'+'/'+str(search_words[i])+'.txt', np.array(vectors[i]), delimiter=\",\",fmt='%s')"
   ]
  },
  {
   "cell_type": "code",
   "execution_count": 184,
   "metadata": {},
   "outputs": [],
   "source": [
    "from sklearn.decomposition import PCA #Grab PCA functions"
   ]
  },
  {
   "cell_type": "code",
   "execution_count": 185,
   "metadata": {},
   "outputs": [],
   "source": [
    "# fit a 2d PCA model to the vectors\n",
    "X = vector_doc_sent\n",
    "pca = PCA(n_components=2)\n",
    "result = pca.fit_transform(X)"
   ]
  },
  {
   "cell_type": "code",
   "execution_count": 186,
   "metadata": {},
   "outputs": [],
   "source": [
    "import matplotlib\n",
    "import matplotlib.pyplot as plt"
   ]
  },
  {
   "cell_type": "code",
   "execution_count": 187,
   "metadata": {},
   "outputs": [
    {
     "data": {
      "image/png": "[encoded data removed]",
      "text/plain": [
       "<Figure size 432x288 with 1 Axes>"
      ]
     },
     "metadata": {},
     "output_type": "display_data"
    }
   ],
   "source": [
    "fig, ax = plt.subplots()\n",
    "ax.plot(result[:, 0], result[:, 1], 'o')\n",
    "ax.set_title('Tweets')\n",
    "plt.show()"
   ]
  },
  {
   "cell_type": "code",
   "execution_count": null,
   "metadata": {},
   "outputs": [],
   "source": [
    "#get number of followrwers\n",
    "tweet_fol = []\n",
    "n = 0\n",
    "for ftem in date_list:\n",
    "    main_path = '/Users/arefeh/Desktop/tweet_api/'+str(search_word)+'/'+ftem+'/'\n",
    "    number_of_files = sum(f.endswith('.txt') for f in os.listdir(main_path))\n",
    "    print(n)\n",
    "    print(number of files)\n",
    "    n = n + 1"
   ]
  },
  {
   "cell_type": "code",
   "execution_count": 106,
   "metadata": {},
   "outputs": [],
   "source": [
    "y = list(daily_dic.values())"
   ]
  },
  {
   "cell_type": "markdown",
   "metadata": {},
   "source": [
    "# Regression Model"
   ]
  },
  {
   "cell_type": "code",
   "execution_count": 107,
   "metadata": {},
   "outputs": [],
   "source": [
    "import numpy as np\n",
    "from sklearn.linear_model import LinearRegression"
   ]
  },
  {
   "cell_type": "code",
   "execution_count": 115,
   "metadata": {},
   "outputs": [
    {
     "name": "stdout",
     "output_type": "stream",
     "text": [
      "\n",
      "\n",
      "5\n",
      "coefficient of determination: 0.6129481733544735\n",
      "\n",
      "\n",
      "6\n",
      "coefficient of determination: 0.6174935755037464\n",
      "\n",
      "\n",
      "7\n",
      "coefficient of determination: 0.6368364149097305\n",
      "\n",
      "\n",
      "8\n",
      "coefficient of determination: 0.6367324549984836\n",
      "\n",
      "\n",
      "9\n",
      "coefficient of determination: 0.6365742560829253\n",
      "\n",
      "\n",
      "10\n",
      "coefficient of determination: 0.6365492845038083\n",
      "\n",
      "\n",
      "11\n",
      "coefficient of determination: 0.6369823079156538\n",
      "\n",
      "\n",
      "12\n",
      "coefficient of determination: 0.6371866591609359\n",
      "\n",
      "\n",
      "13\n",
      "coefficient of determination: 0.6398249322152727\n",
      "\n",
      "\n",
      "14\n",
      "coefficient of determination: 0.6397244186423288\n",
      "\n",
      "\n",
      "15\n",
      "coefficient of determination: 0.6396496366439215\n",
      "\n",
      "\n",
      "16\n",
      "coefficient of determination: 0.6396737295754711\n",
      "\n",
      "\n",
      "17\n",
      "coefficient of determination: 0.6397797727904923\n",
      "\n",
      "\n",
      "18\n",
      "coefficient of determination: 0.640207961774233\n",
      "\n",
      "\n",
      "19\n",
      "coefficient of determination: 0.6420659920229624\n"
     ]
    }
   ],
   "source": [
    "for len_seq in range(5,20):\n",
    "    x = []\n",
    "    for i in range(len(y)- len_seq ):\n",
    "        x.append(y[i:i+len_seq])\n",
    "\n",
    "    model = LinearRegression().fit(x, y[len_seq:])\n",
    "    r_sq = model.score(x, y[len_seq:])\n",
    "    print('\\n')\n",
    "    print(len_seq)\n",
    "    print('coefficient of determination:', r_sq)"
   ]
  },
  {
   "cell_type": "code",
   "execution_count": 252,
   "metadata": {},
   "outputs": [],
   "source": [
    "def seq_creator(Y,len_seq):\n",
    "    x = []\n",
    "    for i in range(len(Y)- len_seq ):\n",
    "        x.append(Y[i:i+len_seq])\n",
    "    y = Y[len_seq:]    \n",
    "    return (x,y)"
   ]
  },
  {
   "cell_type": "code",
   "execution_count": 254,
   "metadata": {},
   "outputs": [],
   "source": [
    "from sklearn.preprocessing import PolynomialFeatures"
   ]
  },
  {
   "cell_type": "code",
   "execution_count": 255,
   "metadata": {},
   "outputs": [],
   "source": [
    "transformer = PolynomialFeatures(degree=2, include_bias=False)"
   ]
  },
  {
   "cell_type": "code",
   "execution_count": 258,
   "metadata": {},
   "outputs": [
    {
     "data": {
      "text/plain": [
       "PolynomialFeatures(degree=2, include_bias=False, interaction_only=False)"
      ]
     },
     "execution_count": 258,
     "metadata": {},
     "output_type": "execute_result"
    }
   ],
   "source": [
    "transformer.fit(x_train_seq)"
   ]
  },
  {
   "cell_type": "code",
   "execution_count": 294,
   "metadata": {},
   "outputs": [],
   "source": [
    "x_ = transformer.transform(x_train_seq)\n",
    "x_ = PolynomialFeatures(degree=2, include_bias=False).fit_transform(x_train_seq)\n",
    "\n",
    "x_test_ = transformer.transform(x_test_seq)\n",
    "x_test_ = PolynomialFeatures(degree=2, include_bias=False).fit_transform(x_test_seq)"
   ]
  },
  {
   "cell_type": "code",
   "execution_count": 295,
   "metadata": {},
   "outputs": [],
   "source": [
    "model = LinearRegression().fit(x_, y_train_seq)"
   ]
  },
  {
   "cell_type": "code",
   "execution_count": 296,
   "metadata": {},
   "outputs": [
    {
     "name": "stdout",
     "output_type": "stream",
     "text": [
      "coefficient of determination: 0.7569469127842163\n"
     ]
    }
   ],
   "source": [
    "y_pr_train_seq = model.predict(x_)\n",
    "r_sq = model.score(x_, y_train_seq)\n",
    "print('coefficient of determination:', r_sq)"
   ]
  },
  {
   "cell_type": "code",
   "execution_count": 297,
   "metadata": {},
   "outputs": [
    {
     "name": "stdout",
     "output_type": "stream",
     "text": [
      "coefficient of determination: 0.7733308790970297\n"
     ]
    }
   ],
   "source": [
    "y_pr_test_seq = model.predict(x_test_)\n",
    "r_sq = model.score(x_test_, y_test_seq)\n",
    "print('coefficient of determination:', r_sq)"
   ]
  },
  {
   "cell_type": "code",
   "execution_count": 247,
   "metadata": {},
   "outputs": [],
   "source": [
    "x_train = x[:300]\n",
    "y_train = y[:300]\n",
    "x_test = x[300:]\n",
    "y_test = y[300:]"
   ]
  },
  {
   "cell_type": "code",
   "execution_count": 305,
   "metadata": {},
   "outputs": [
    {
     "data": {
      "text/plain": [
       "362"
      ]
     },
     "execution_count": 305,
     "metadata": {},
     "output_type": "execute_result"
    }
   ],
   "source": [
    "len(y_train+y_test)"
   ]
  },
  {
   "cell_type": "code",
   "execution_count": 253,
   "metadata": {},
   "outputs": [],
   "source": [
    "len_seq = 10\n",
    "[x_train_seq, y_train_seq] = seq_creator(y_train, len_seq)\n",
    "[x_test_seq, y_test_seq] = seq_creator(y_test, len_seq)"
   ]
  },
  {
   "cell_type": "code",
   "execution_count": 288,
   "metadata": {},
   "outputs": [
    {
     "data": {
      "text/plain": [
       "range(290, 52)"
      ]
     },
     "execution_count": 288,
     "metadata": {},
     "output_type": "execute_result"
    }
   ],
   "source": [
    "range(len(y_pr_train_seq),len(y_pr_test_seq))"
   ]
  },
  {
   "cell_type": "code",
   "execution_count": 317,
   "metadata": {},
   "outputs": [
    {
     "data": {
      "image/png": "[encoded data removed]",
      "text/plain": [
       "<Figure size 432x288 with 1 Axes>"
      ]
     },
     "metadata": {},
     "output_type": "display_data"
    },
    {
     "data": {
      "text/plain": [
       "<Figure size 4320x4320 with 0 Axes>"
      ]
     },
     "metadata": {},
     "output_type": "display_data"
    }
   ],
   "source": [
    "import matplotlib.pyplot as plt\n",
    "# line 1 points\n",
    "\n",
    "# plotting the line 1 points \n",
    "plt.plot(range(len(y_pr_train_seq)), y_pr_train_seq, label = \"model_train\")\n",
    "plt.plot(range(len(y_pr_train_seq)+len_seq,len(y_pr_train_seq)+len(y_pr_test_seq)+len_seq), y_pr_test_seq, label = \"model_test\")\n",
    "plt.plot(range(len(y_train+y_test)-len_seq), (y_train+y_test)[len_seq:], label = \"real_value\")\n",
    "plt.xlabel('Time-day')\n",
    "# Set the y axis label of the current axis.\n",
    "plt.ylabel('People Sentiment')\n",
    "# Set a title of the current axes.\n",
    "plt.title('Prediction of People Feedback on Covid')\n",
    "# show a legend on the plot\n",
    "plt.legend()\n",
    "plt.figure(figsize=(60, 60))\n",
    "# Display a figure.\n",
    "plt.show()"
   ]
  },
  {
   "cell_type": "markdown",
   "metadata": {},
   "source": [
    "# Compute Correlation "
   ]
  },
  {
   "cell_type": "code",
   "execution_count": 320,
   "metadata": {},
   "outputs": [],
   "source": [
    "path_csv_covid = path_root+'owid-covid-data.csv'"
   ]
  },
  {
   "cell_type": "code",
   "execution_count": 342,
   "metadata": {},
   "outputs": [],
   "source": [
    "covid_data = pd.read_csv(path_csv_covid)"
   ]
  },
  {
   "cell_type": "code",
   "execution_count": 386,
   "metadata": {},
   "outputs": [
    {
     "data": {
      "text/html": [
       "<div>\n",
       "<style scoped>\n",
       "    .dataframe tbody tr th:only-of-type {\n",
       "        vertical-align: middle;\n",
       "    }\n",
       "\n",
       "    .dataframe tbody tr th {\n",
       "        vertical-align: top;\n",
       "    }\n",
       "\n",
       "    .dataframe thead th {\n",
       "        text-align: right;\n",
       "    }\n",
       "</style>\n",
       "<table border=\"1\" class=\"dataframe\">\n",
       "  <thead>\n",
       "    <tr style=\"text-align: right;\">\n",
       "      <th></th>\n",
       "      <th>iso_code</th>\n",
       "      <th>continent</th>\n",
       "      <th>location</th>\n",
       "      <th>date</th>\n",
       "      <th>total_cases</th>\n",
       "      <th>new_cases</th>\n",
       "      <th>new_cases_smoothed</th>\n",
       "      <th>total_deaths</th>\n",
       "      <th>new_deaths</th>\n",
       "      <th>new_deaths_smoothed</th>\n",
       "      <th>...</th>\n",
       "      <th>gdp_per_capita</th>\n",
       "      <th>extreme_poverty</th>\n",
       "      <th>cardiovasc_death_rate</th>\n",
       "      <th>diabetes_prevalence</th>\n",
       "      <th>female_smokers</th>\n",
       "      <th>male_smokers</th>\n",
       "      <th>handwashing_facilities</th>\n",
       "      <th>hospital_beds_per_thousand</th>\n",
       "      <th>life_expectancy</th>\n",
       "      <th>human_development_index</th>\n",
       "    </tr>\n",
       "  </thead>\n",
       "  <tbody>\n",
       "    <tr>\n",
       "      <th>0</th>\n",
       "      <td>AFG</td>\n",
       "      <td>Asia</td>\n",
       "      <td>Afghanistan</td>\n",
       "      <td>2020-02-24</td>\n",
       "      <td>1.0</td>\n",
       "      <td>1.0</td>\n",
       "      <td>NaN</td>\n",
       "      <td>NaN</td>\n",
       "      <td>NaN</td>\n",
       "      <td>NaN</td>\n",
       "      <td>...</td>\n",
       "      <td>1803.987</td>\n",
       "      <td>NaN</td>\n",
       "      <td>597.029</td>\n",
       "      <td>9.59</td>\n",
       "      <td>NaN</td>\n",
       "      <td>NaN</td>\n",
       "      <td>37.746</td>\n",
       "      <td>0.5</td>\n",
       "      <td>64.83</td>\n",
       "      <td>0.498</td>\n",
       "    </tr>\n",
       "    <tr>\n",
       "      <th>1</th>\n",
       "      <td>AFG</td>\n",
       "      <td>Asia</td>\n",
       "      <td>Afghanistan</td>\n",
       "      <td>2020-02-25</td>\n",
       "      <td>1.0</td>\n",
       "      <td>0.0</td>\n",
       "      <td>NaN</td>\n",
       "      <td>NaN</td>\n",
       "      <td>NaN</td>\n",
       "      <td>NaN</td>\n",
       "      <td>...</td>\n",
       "      <td>1803.987</td>\n",
       "      <td>NaN</td>\n",
       "      <td>597.029</td>\n",
       "      <td>9.59</td>\n",
       "      <td>NaN</td>\n",
       "      <td>NaN</td>\n",
       "      <td>37.746</td>\n",
       "      <td>0.5</td>\n",
       "      <td>64.83</td>\n",
       "      <td>0.498</td>\n",
       "    </tr>\n",
       "    <tr>\n",
       "      <th>2</th>\n",
       "      <td>AFG</td>\n",
       "      <td>Asia</td>\n",
       "      <td>Afghanistan</td>\n",
       "      <td>2020-02-26</td>\n",
       "      <td>1.0</td>\n",
       "      <td>0.0</td>\n",
       "      <td>NaN</td>\n",
       "      <td>NaN</td>\n",
       "      <td>NaN</td>\n",
       "      <td>NaN</td>\n",
       "      <td>...</td>\n",
       "      <td>1803.987</td>\n",
       "      <td>NaN</td>\n",
       "      <td>597.029</td>\n",
       "      <td>9.59</td>\n",
       "      <td>NaN</td>\n",
       "      <td>NaN</td>\n",
       "      <td>37.746</td>\n",
       "      <td>0.5</td>\n",
       "      <td>64.83</td>\n",
       "      <td>0.498</td>\n",
       "    </tr>\n",
       "    <tr>\n",
       "      <th>3</th>\n",
       "      <td>AFG</td>\n",
       "      <td>Asia</td>\n",
       "      <td>Afghanistan</td>\n",
       "      <td>2020-02-27</td>\n",
       "      <td>1.0</td>\n",
       "      <td>0.0</td>\n",
       "      <td>NaN</td>\n",
       "      <td>NaN</td>\n",
       "      <td>NaN</td>\n",
       "      <td>NaN</td>\n",
       "      <td>...</td>\n",
       "      <td>1803.987</td>\n",
       "      <td>NaN</td>\n",
       "      <td>597.029</td>\n",
       "      <td>9.59</td>\n",
       "      <td>NaN</td>\n",
       "      <td>NaN</td>\n",
       "      <td>37.746</td>\n",
       "      <td>0.5</td>\n",
       "      <td>64.83</td>\n",
       "      <td>0.498</td>\n",
       "    </tr>\n",
       "    <tr>\n",
       "      <th>4</th>\n",
       "      <td>AFG</td>\n",
       "      <td>Asia</td>\n",
       "      <td>Afghanistan</td>\n",
       "      <td>2020-02-28</td>\n",
       "      <td>1.0</td>\n",
       "      <td>0.0</td>\n",
       "      <td>NaN</td>\n",
       "      <td>NaN</td>\n",
       "      <td>NaN</td>\n",
       "      <td>NaN</td>\n",
       "      <td>...</td>\n",
       "      <td>1803.987</td>\n",
       "      <td>NaN</td>\n",
       "      <td>597.029</td>\n",
       "      <td>9.59</td>\n",
       "      <td>NaN</td>\n",
       "      <td>NaN</td>\n",
       "      <td>37.746</td>\n",
       "      <td>0.5</td>\n",
       "      <td>64.83</td>\n",
       "      <td>0.498</td>\n",
       "    </tr>\n",
       "    <tr>\n",
       "      <th>...</th>\n",
       "      <td>...</td>\n",
       "      <td>...</td>\n",
       "      <td>...</td>\n",
       "      <td>...</td>\n",
       "      <td>...</td>\n",
       "      <td>...</td>\n",
       "      <td>...</td>\n",
       "      <td>...</td>\n",
       "      <td>...</td>\n",
       "      <td>...</td>\n",
       "      <td>...</td>\n",
       "      <td>...</td>\n",
       "      <td>...</td>\n",
       "      <td>...</td>\n",
       "      <td>...</td>\n",
       "      <td>...</td>\n",
       "      <td>...</td>\n",
       "      <td>...</td>\n",
       "      <td>...</td>\n",
       "      <td>...</td>\n",
       "      <td>...</td>\n",
       "    </tr>\n",
       "    <tr>\n",
       "      <th>61081</th>\n",
       "      <td>ZWE</td>\n",
       "      <td>Africa</td>\n",
       "      <td>Zimbabwe</td>\n",
       "      <td>2021-01-15</td>\n",
       "      <td>26109.0</td>\n",
       "      <td>741.0</td>\n",
       "      <td>921.286</td>\n",
       "      <td>666.0</td>\n",
       "      <td>30.0</td>\n",
       "      <td>28.286</td>\n",
       "      <td>...</td>\n",
       "      <td>1899.775</td>\n",
       "      <td>21.4</td>\n",
       "      <td>307.846</td>\n",
       "      <td>1.82</td>\n",
       "      <td>1.6</td>\n",
       "      <td>30.7</td>\n",
       "      <td>36.791</td>\n",
       "      <td>1.7</td>\n",
       "      <td>61.49</td>\n",
       "      <td>0.535</td>\n",
       "    </tr>\n",
       "    <tr>\n",
       "      <th>61082</th>\n",
       "      <td>ZWE</td>\n",
       "      <td>Africa</td>\n",
       "      <td>Zimbabwe</td>\n",
       "      <td>2021-01-16</td>\n",
       "      <td>26881.0</td>\n",
       "      <td>772.0</td>\n",
       "      <td>911.714</td>\n",
       "      <td>683.0</td>\n",
       "      <td>17.0</td>\n",
       "      <td>28.571</td>\n",
       "      <td>...</td>\n",
       "      <td>1899.775</td>\n",
       "      <td>21.4</td>\n",
       "      <td>307.846</td>\n",
       "      <td>1.82</td>\n",
       "      <td>1.6</td>\n",
       "      <td>30.7</td>\n",
       "      <td>36.791</td>\n",
       "      <td>1.7</td>\n",
       "      <td>61.49</td>\n",
       "      <td>0.535</td>\n",
       "    </tr>\n",
       "    <tr>\n",
       "      <th>61083</th>\n",
       "      <td>ZWE</td>\n",
       "      <td>Africa</td>\n",
       "      <td>Zimbabwe</td>\n",
       "      <td>2021-01-17</td>\n",
       "      <td>27203.0</td>\n",
       "      <td>322.0</td>\n",
       "      <td>818.000</td>\n",
       "      <td>713.0</td>\n",
       "      <td>30.0</td>\n",
       "      <td>29.429</td>\n",
       "      <td>...</td>\n",
       "      <td>1899.775</td>\n",
       "      <td>21.4</td>\n",
       "      <td>307.846</td>\n",
       "      <td>1.82</td>\n",
       "      <td>1.6</td>\n",
       "      <td>30.7</td>\n",
       "      <td>36.791</td>\n",
       "      <td>1.7</td>\n",
       "      <td>61.49</td>\n",
       "      <td>0.535</td>\n",
       "    </tr>\n",
       "    <tr>\n",
       "      <th>61084</th>\n",
       "      <td>ZWE</td>\n",
       "      <td>Africa</td>\n",
       "      <td>Zimbabwe</td>\n",
       "      <td>2021-01-18</td>\n",
       "      <td>27892.0</td>\n",
       "      <td>689.0</td>\n",
       "      <td>799.286</td>\n",
       "      <td>773.0</td>\n",
       "      <td>60.0</td>\n",
       "      <td>35.000</td>\n",
       "      <td>...</td>\n",
       "      <td>1899.775</td>\n",
       "      <td>21.4</td>\n",
       "      <td>307.846</td>\n",
       "      <td>1.82</td>\n",
       "      <td>1.6</td>\n",
       "      <td>30.7</td>\n",
       "      <td>36.791</td>\n",
       "      <td>1.7</td>\n",
       "      <td>61.49</td>\n",
       "      <td>0.535</td>\n",
       "    </tr>\n",
       "    <tr>\n",
       "      <th>61085</th>\n",
       "      <td>ZWE</td>\n",
       "      <td>Africa</td>\n",
       "      <td>Zimbabwe</td>\n",
       "      <td>2021-01-19</td>\n",
       "      <td>28675.0</td>\n",
       "      <td>783.0</td>\n",
       "      <td>776.571</td>\n",
       "      <td>825.0</td>\n",
       "      <td>52.0</td>\n",
       "      <td>39.143</td>\n",
       "      <td>...</td>\n",
       "      <td>1899.775</td>\n",
       "      <td>21.4</td>\n",
       "      <td>307.846</td>\n",
       "      <td>1.82</td>\n",
       "      <td>1.6</td>\n",
       "      <td>30.7</td>\n",
       "      <td>36.791</td>\n",
       "      <td>1.7</td>\n",
       "      <td>61.49</td>\n",
       "      <td>0.535</td>\n",
       "    </tr>\n",
       "  </tbody>\n",
       "</table>\n",
       "<p>61086 rows × 55 columns</p>\n",
       "</div>"
      ],
      "text/plain": [
       "      iso_code continent     location        date  total_cases  new_cases  \\\n",
       "0          AFG      Asia  Afghanistan  2020-02-24          1.0        1.0   \n",
       "1          AFG      Asia  Afghanistan  2020-02-25          1.0        0.0   \n",
       "2          AFG      Asia  Afghanistan  2020-02-26          1.0        0.0   \n",
       "3          AFG      Asia  Afghanistan  2020-02-27          1.0        0.0   \n",
       "4          AFG      Asia  Afghanistan  2020-02-28          1.0        0.0   \n",
       "...        ...       ...          ...         ...          ...        ...   \n",
       "61081      ZWE    Africa     Zimbabwe  2021-01-15      26109.0      741.0   \n",
       "61082      ZWE    Africa     Zimbabwe  2021-01-16      26881.0      772.0   \n",
       "61083      ZWE    Africa     Zimbabwe  2021-01-17      27203.0      322.0   \n",
       "61084      ZWE    Africa     Zimbabwe  2021-01-18      27892.0      689.0   \n",
       "61085      ZWE    Africa     Zimbabwe  2021-01-19      28675.0      783.0   \n",
       "\n",
       "       new_cases_smoothed  total_deaths  new_deaths  new_deaths_smoothed  ...  \\\n",
       "0                     NaN           NaN         NaN                  NaN  ...   \n",
       "1                     NaN           NaN         NaN                  NaN  ...   \n",
       "2                     NaN           NaN         NaN                  NaN  ...   \n",
       "3                     NaN           NaN         NaN                  NaN  ...   \n",
       "4                     NaN           NaN         NaN                  NaN  ...   \n",
       "...                   ...           ...         ...                  ...  ...   \n",
       "61081             921.286         666.0        30.0               28.286  ...   \n",
       "61082             911.714         683.0        17.0               28.571  ...   \n",
       "61083             818.000         713.0        30.0               29.429  ...   \n",
       "61084             799.286         773.0        60.0               35.000  ...   \n",
       "61085             776.571         825.0        52.0               39.143  ...   \n",
       "\n",
       "       gdp_per_capita  extreme_poverty  cardiovasc_death_rate  \\\n",
       "0            1803.987              NaN                597.029   \n",
       "1            1803.987              NaN                597.029   \n",
       "2            1803.987              NaN                597.029   \n",
       "3            1803.987              NaN                597.029   \n",
       "4            1803.987              NaN                597.029   \n",
       "...               ...              ...                    ...   \n",
       "61081        1899.775             21.4                307.846   \n",
       "61082        1899.775             21.4                307.846   \n",
       "61083        1899.775             21.4                307.846   \n",
       "61084        1899.775             21.4                307.846   \n",
       "61085        1899.775             21.4                307.846   \n",
       "\n",
       "       diabetes_prevalence  female_smokers  male_smokers  \\\n",
       "0                     9.59             NaN           NaN   \n",
       "1                     9.59             NaN           NaN   \n",
       "2                     9.59             NaN           NaN   \n",
       "3                     9.59             NaN           NaN   \n",
       "4                     9.59             NaN           NaN   \n",
       "...                    ...             ...           ...   \n",
       "61081                 1.82             1.6          30.7   \n",
       "61082                 1.82             1.6          30.7   \n",
       "61083                 1.82             1.6          30.7   \n",
       "61084                 1.82             1.6          30.7   \n",
       "61085                 1.82             1.6          30.7   \n",
       "\n",
       "       handwashing_facilities  hospital_beds_per_thousand  life_expectancy  \\\n",
       "0                      37.746                         0.5            64.83   \n",
       "1                      37.746                         0.5            64.83   \n",
       "2                      37.746                         0.5            64.83   \n",
       "3                      37.746                         0.5            64.83   \n",
       "4                      37.746                         0.5            64.83   \n",
       "...                       ...                         ...              ...   \n",
       "61081                  36.791                         1.7            61.49   \n",
       "61082                  36.791                         1.7            61.49   \n",
       "61083                  36.791                         1.7            61.49   \n",
       "61084                  36.791                         1.7            61.49   \n",
       "61085                  36.791                         1.7            61.49   \n",
       "\n",
       "       human_development_index  \n",
       "0                        0.498  \n",
       "1                        0.498  \n",
       "2                        0.498  \n",
       "3                        0.498  \n",
       "4                        0.498  \n",
       "...                        ...  \n",
       "61081                    0.535  \n",
       "61082                    0.535  \n",
       "61083                    0.535  \n",
       "61084                    0.535  \n",
       "61085                    0.535  \n",
       "\n",
       "[61086 rows x 55 columns]"
      ]
     },
     "execution_count": 386,
     "metadata": {},
     "output_type": "execute_result"
    }
   ],
   "source": [
    "covid_data"
   ]
  },
  {
   "cell_type": "code",
   "execution_count": 385,
   "metadata": {},
   "outputs": [
    {
     "data": {
      "text/plain": [
       "4114346.0"
      ]
     },
     "execution_count": 385,
     "metadata": {},
     "output_type": "execute_result"
    }
   ],
   "source": [
    "total_deaths[-2]"
   ]
  },
  {
   "cell_type": "code",
   "execution_count": 334,
   "metadata": {},
   "outputs": [],
   "source": [
    "total_deaths = covid_data.groupby(['date']).sum()['total_deaths']"
   ]
  },
  {
   "cell_type": "code",
   "execution_count": 335,
   "metadata": {},
   "outputs": [],
   "source": [
    "total_cases = covid_data.groupby(['date']).sum()['total_cases']"
   ]
  },
  {
   "cell_type": "code",
   "execution_count": 354,
   "metadata": {},
   "outputs": [
    {
     "data": {
      "text/plain": [
       "34.0"
      ]
     },
     "execution_count": 354,
     "metadata": {},
     "output_type": "execute_result"
    }
   ],
   "source": [
    "total_deaths['2020-01-22']"
   ]
  },
  {
   "cell_type": "code",
   "execution_count": 387,
   "metadata": {},
   "outputs": [],
   "source": [
    "total_deaths_list = list(total_deaths[21:-9])\n",
    "total_cases_list = list(total_cases[21:-9])"
   ]
  },
  {
   "cell_type": "code",
   "execution_count": 371,
   "metadata": {},
   "outputs": [
    {
     "data": {
      "text/plain": [
       "1114.0"
      ]
     },
     "execution_count": 371,
     "metadata": {},
     "output_type": "execute_result"
    }
   ],
   "source": [
    "total_cases['2020-01-22']"
   ]
  },
  {
   "cell_type": "code",
   "execution_count": 372,
   "metadata": {},
   "outputs": [
    {
     "data": {
      "text/plain": [
       "36.0"
      ]
     },
     "execution_count": 372,
     "metadata": {},
     "output_type": "execute_result"
    }
   ],
   "source": [
    "total_deaths_list[0]"
   ]
  },
  {
   "cell_type": "code",
   "execution_count": 380,
   "metadata": {},
   "outputs": [
    {
     "data": {
      "text/plain": [
       "1114.0"
      ]
     },
     "execution_count": 380,
     "metadata": {},
     "output_type": "execute_result"
    }
   ],
   "source": [
    "total_cases[21]"
   ]
  },
  {
   "cell_type": "code",
   "execution_count": 390,
   "metadata": {},
   "outputs": [
    {
     "name": "stdout",
     "output_type": "stream",
     "text": [
      "(0.1218789693225249, 0.02144248286057458)\n",
      "[[1.         0.12187897]\n",
      " [0.12187897 1.        ]]\n"
     ]
    }
   ],
   "source": [
    "print (pearsonr( list(daily_dic.values())[6:], total_deaths_list))\n",
    "print (np.corrcoef( list(daily_dic.values())[6:],total_deaths_list))"
   ]
  },
  {
   "cell_type": "code",
   "execution_count": 392,
   "metadata": {},
   "outputs": [
    {
     "name": "stdout",
     "output_type": "stream",
     "text": [
      "(0.12384259452919628, 0.019416086751229647)\n",
      "[[1.         0.12384259]\n",
      " [0.12384259 1.        ]]\n"
     ]
    }
   ],
   "source": [
    "print (pearsonr( list(daily_dic.values())[6:], total_cases_list))\n",
    "print (np.corrcoef( list(daily_dic.values())[6:],total_cases_list))"
   ]
  },
  {
   "cell_type": "code",
   "execution_count": 399,
   "metadata": {},
   "outputs": [
    {
     "data": {
      "text/plain": [
       "<matplotlib.axes._subplots.AxesSubplot at 0x7fe5b0f947f0>"
      ]
     },
     "execution_count": 399,
     "metadata": {},
     "output_type": "execute_result"
    },
    {
     "data": {
      "image/png": "[encoded data removed]",
      "text/plain": [
       "<Figure size 432x288 with 1 Axes>"
      ]
     },
     "metadata": {},
     "output_type": "display_data"
    }
   ],
   "source": [
    "sns.barplot(list(daily_dic.keys())[6:], total_cases_list)"
   ]
  },
  {
   "cell_type": "code",
   "execution_count": 400,
   "metadata": {},
   "outputs": [
    {
     "data": {
      "text/plain": [
       "<matplotlib.axes._subplots.AxesSubplot at 0x7fe5a52019e8>"
      ]
     },
     "execution_count": 400,
     "metadata": {},
     "output_type": "execute_result"
    },
    {
     "data": {
      "image/png": "[encoded data removed]",
      "text/plain": [
       "<Figure size 432x288 with 1 Axes>"
      ]
     },
     "metadata": {},
     "output_type": "display_data"
    }
   ],
   "source": [
    "sns.barplot(list(daily_dic.keys())[6:], total_deaths_list)"
   ]
  }
 ],
 "metadata": {
  "kernelspec": {
   "display_name": "Python 3",
   "language": "python",
   "name": "python3"
  },
  "language_info": {
   "codemirror_mode": {
    "name": "ipython",
    "version": 3
   },
   "file_extension": ".py",
   "mimetype": "text/x-python",
   "name": "python",
   "nbconvert_exporter": "python",
   "pygments_lexer": "ipython3",
   "version": "3.6.8"
  }
 },
 "nbformat": 4,
 "nbformat_minor": 2
}
